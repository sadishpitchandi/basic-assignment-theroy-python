{
 "cells": [
  {
   "cell_type": "code",
   "execution_count": null,
   "id": "3b6fdb61",
   "metadata": {},
   "outputs": [],
   "source": [
    "1. Is the python Standard Library included with PyInputPlus?"
   ]
  },
  {
   "cell_type": "code",
   "execution_count": null,
   "id": "8f8ed040",
   "metadata": {},
   "outputs": [],
   "source": [
    "PyInputPlus is not a part of the Python Standard Library, So you must install it separately using pip\n",
    " #pip install PyInputPlus"
   ]
  },
  {
   "cell_type": "code",
   "execution_count": null,
   "id": "ba6bae7a",
   "metadata": {},
   "outputs": [],
   "source": [
    "2. Why is PyInputPlus commonly imported with import pyinputplus as pypi"
   ]
  },
  {
   "cell_type": "code",
   "execution_count": null,
   "id": "ebe658e6",
   "metadata": {},
   "outputs": [],
   "source": [
    "pypi is alias of pyInputPlus. The as pyip code in the import statement saves us from typing pyinputplus each time \n",
    "we want to call a PyInputPlus function, Instead we can usse the shorter pyip name\n",
    "\n",
    "#import Pyinputplus as pypi"
   ]
  },
  {
   "cell_type": "code",
   "execution_count": null,
   "id": "912222f7",
   "metadata": {},
   "outputs": [],
   "source": [
    "3.  How do you distinguish between inputInt() and inputFloat()?"
   ]
  },
  {
   "cell_type": "code",
   "execution_count": null,
   "id": "3510349e",
   "metadata": {},
   "outputs": [],
   "source": [
    "InputINt() : Accepts am interger value, and returns int value.\n",
    "InputFloat(): Accepts intergers/floating point value and returns float values.\n",
    "Both takes additional parameters 'min','max','greater than' and lesserthan for bonds."
   ]
  },
  {
   "cell_type": "code",
   "execution_count": null,
   "id": "709ebe1a",
   "metadata": {},
   "outputs": [],
   "source": [
    "4. Using PyInputPlus, how do you ensure that the user enters a whole number between 0 and 99?"
   ]
  },
  {
   "cell_type": "code",
   "execution_count": null,
   "id": "989f194f",
   "metadata": {},
   "outputs": [],
   "source": [
    "pyip.inputInt(min=0,max-99)"
   ]
  },
  {
   "cell_type": "code",
   "execution_count": null,
   "id": "45fd8c36",
   "metadata": {},
   "outputs": [],
   "source": [
    "5. What is transferred to the keyword aruguments allowRegex and blocksregex"
   ]
  },
  {
   "cell_type": "code",
   "execution_count": null,
   "id": "ba3eb40f",
   "metadata": {},
   "outputs": [],
   "source": [
    "We can use regular expression to specify wheather an input is allowed or not.\n",
    "The allowRegexes and blockregexes keyword aruguments take a list of regular expression strings to determine \n",
    "what the pyinputplus function will accept or rejects as valif input.\n",
    "\n",
    "Eg:\n",
    "    pyip.inputNum(allowRegexes=[r'(I|v|x|L|C|D|M)+',r\"zero\"])\n",
    "    pyip.inputNum(blockRegex=[r\"02468]&\") "
   ]
  },
  {
   "cell_type": "code",
   "execution_count": null,
   "id": "1c60b910",
   "metadata": {},
   "outputs": [],
   "source": [
    "6. If a blank input is entered three times, what does inputStr(limit=3) do?"
   ]
  },
  {
   "cell_type": "code",
   "execution_count": null,
   "id": "8c255ae7",
   "metadata": {},
   "outputs": [],
   "source": [
    "inputstr(limit=3) will throw RetryLimitException exception"
   ]
  },
  {
   "cell_type": "code",
   "execution_count": null,
   "id": "28381f95",
   "metadata": {},
   "outputs": [],
   "source": [
    "7. If black input is entered three limits what does inputstr(limit=3,defulat=\"hello\") do?"
   ]
  },
  {
   "cell_type": "code",
   "execution_count": null,
   "id": "ebc0c4dd",
   "metadata": {},
   "outputs": [],
   "source": [
    "When you use limits keyword aruguments and also a pass a default keyword aruguments,\n",
    "the function returns the default value instead of raising an exception."
   ]
  }
 ],
 "metadata": {
  "kernelspec": {
   "display_name": "Python 3 (ipykernel)",
   "language": "python",
   "name": "python3"
  },
  "language_info": {
   "codemirror_mode": {
    "name": "ipython",
    "version": 3
   },
   "file_extension": ".py",
   "mimetype": "text/x-python",
   "name": "python",
   "nbconvert_exporter": "python",
   "pygments_lexer": "ipython3",
   "version": "3.9.12"
  }
 },
 "nbformat": 4,
 "nbformat_minor": 5
}
