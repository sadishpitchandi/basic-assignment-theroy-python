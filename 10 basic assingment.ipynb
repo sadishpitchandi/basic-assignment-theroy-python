{
 "cells": [
  {
   "cell_type": "code",
   "execution_count": null,
   "id": "fe49bed4",
   "metadata": {},
   "outputs": [],
   "source": [
    "1.how do you distinguish betwwn shutil.copy()and shutil.copytree()?"
   ]
  },
  {
   "cell_type": "code",
   "execution_count": null,
   "id": "527bf53a",
   "metadata": {},
   "outputs": [],
   "source": [
    "the shutil.copy()function will copy a single file,while shutil.copytree()will copy an entire folder ,along with all its contents"
   ]
  },
  {
   "cell_type": "code",
   "execution_count": null,
   "id": "5b3fb8a6",
   "metadata": {},
   "outputs": [],
   "source": [
    "2.what function is use to rename the file?"
   ]
  },
  {
   "cell_type": "code",
   "execution_count": null,
   "id": "37559dc8",
   "metadata": {},
   "outputs": [],
   "source": [
    "shutil.move()function is use for renaming the file as well as moving them "
   ]
  },
  {
   "cell_type": "code",
   "execution_count": null,
   "id": "18e1d46b",
   "metadata": {},
   "outputs": [],
   "source": [
    "3.what is the different between the delete function in the send2trash and shutil modules?"
   ]
  },
  {
   "cell_type": "code",
   "execution_count": null,
   "id": "13de44f8",
   "metadata": {},
   "outputs": [],
   "source": [
    "this send2trash function will move a file or folder to the recycle bin while shutil function will permanently delete the files and folders "
   ]
  },
  {
   "cell_type": "code",
   "execution_count": null,
   "id": "1ef535ce",
   "metadata": {},
   "outputs": [],
   "source": [
    "4.zipfile object have a close()method just like the file object close()method.what a zip file method is equivalent to file object in open() method? "
   ]
  },
  {
   "cell_type": "code",
   "execution_count": null,
   "id": "a8a402f2",
   "metadata": {},
   "outputs": [],
   "source": [
    "the zipfile.zipfile()function is equivalent to the open()function ; the first argument is the file name and the second argument is the mode to open the zipfilein \n",
    "read write append "
   ]
  },
  {
   "cell_type": "code",
   "execution_count": null,
   "id": "4ec2f70e",
   "metadata": {},
   "outputs": [],
   "source": [
    "5.creat ethe programme that such a folder tree for a file with a certain file extention(such as .pdf or jpg).copy these files from whatever loction they are int to a new folder?"
   ]
  },
  {
   "cell_type": "code",
   "execution_count": 1,
   "id": "f3075a4e",
   "metadata": {},
   "outputs": [],
   "source": [
    "import os,shutil\n",
    "def selectivecopy(folder,extensions,destfolder):\n",
    "    folder=os.path.abspath(folder)\n",
    "    destfolder=os.path.abspath(destfolder)\n",
    "    print('looking in',folder,'for filr with extensions',','.join(extensions)\n",
    "    for foldername,subfolder,filename in os.walk(folder):\n",
    "        for filename in filenames:\n",
    "            name,extension=os.path.splitext(filename)\n",
    "          if extension in extensions:\n",
    "          "
   ]
  },
  {
   "cell_type": "code",
   "execution_count": null,
   "id": "01006234",
   "metadata": {},
   "outputs": [],
   "source": []
  },
  {
   "cell_type": "code",
   "execution_count": null,
   "id": "0fe01c48",
   "metadata": {},
   "outputs": [],
   "source": []
  },
  {
   "cell_type": "code",
   "execution_count": null,
   "id": "888f0355",
   "metadata": {},
   "outputs": [],
   "source": []
  },
  {
   "cell_type": "code",
   "execution_count": null,
   "id": "7a83e009",
   "metadata": {},
   "outputs": [],
   "source": []
  }
 ],
 "metadata": {
  "kernelspec": {
   "display_name": "Python 3 (ipykernel)",
   "language": "python",
   "name": "python3"
  },
  "language_info": {
   "codemirror_mode": {
    "name": "ipython",
    "version": 3
   },
   "file_extension": ".py",
   "mimetype": "text/x-python",
   "name": "python",
   "nbconvert_exporter": "python",
   "pygments_lexer": "ipython3",
   "version": "3.9.12"
  }
 },
 "nbformat": 4,
 "nbformat_minor": 5
}
