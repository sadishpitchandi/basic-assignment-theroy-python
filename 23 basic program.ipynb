{
 "cells": [
  {
   "cell_type": "markdown",
   "id": "1a817ebf",
   "metadata": {},
   "source": [
    "What is the result of the code, and why?\n",
    "\n",
    "def func(a, b=6, c=8):print(a, b, c)\n",
    "\n",
    "func(1, 2)\n",
    "\n",
    "Answer -\n",
    "The line func() takes two values, that is 1 and 2 respectively, but the func() is defined to take 3 values, as in func() we pass only two values, the third value comes from the default value, that is c = 8."
   ]
  },
  {
   "cell_type": "code",
   "execution_count": 6,
   "id": "6d3c046a",
   "metadata": {},
   "outputs": [
    {
     "name": "stdout",
     "output_type": "stream",
     "text": [
      "1 4 7 8\n"
     ]
    }
   ],
   "source": [
    "def func(a, b=6, c=7,d=8\n",
    "        ):\n",
    "    print(a, b,c,d)\n",
    "\n",
    "func(1, 4)"
   ]
  },
  {
   "cell_type": "markdown",
   "id": "050d9eae",
   "metadata": {},
   "source": [
    "2. What is the result of this code, and why?\n",
    "\n",
    "def func(a, b, c=5):print(a, b, c)\n",
    "\n",
    "func(1, c=3, b=2)\n",
    "\n",
    "Answer -\n",
    "The line func() takes three values, that is 1 , c= 3 snd b = 2 respectively,the func() is defined to take 3 values, as in func() we pass othree values, the default values gets overwritten, and we get the newly passed values."
   ]
  },
  {
   "cell_type": "code",
   "execution_count": 8,
   "id": "32736205",
   "metadata": {},
   "outputs": [
    {
     "name": "stdout",
     "output_type": "stream",
     "text": [
      "1 2 9\n"
     ]
    }
   ],
   "source": [
    "def func(a, b, c=5):\n",
    "    print(a, b, c)\n",
    "func(1, c=9, b=2)"
   ]
  },
  {
   "cell_type": "markdown",
   "id": "af6a1cf3",
   "metadata": {},
   "source": [
    "3.  How about this code: what is its result, and why?\n",
    "\n",
    "def func(a, *pargs):print(a, pargs)\n",
    "\n",
    "func(1, 2, 3)\n",
    "\n",
    "Answer -\n",
    "The special syntax pargs in function definitions in python is used to pass a variable number of arguments to a function.\n",
    "It is used to pass a non-key worded, variable-length argument list. The syntax is to use the symbol to take in a variable number of arguments; by convention, it is often used with the word args.\n",
    "\n",
    "What pargs allows you to do is take in more arguments than the number of formal arguments that you previously defined. With pargs, any number of extra arguments can be tacked on to your current formal parameters (including zero extra arguments)."
   ]
  },
  {
   "cell_type": "code",
   "execution_count": 15,
   "id": "df19b994",
   "metadata": {},
   "outputs": [
    {
     "name": "stdout",
     "output_type": "stream",
     "text": [
      "1 2 (3, 4, 6)\n"
     ]
    }
   ],
   "source": [
    "def func(a,b, *pargs):\n",
    "    print(a,b, pargs)\n",
    "func(1, 2, 3,4,6)"
   ]
  },
  {
   "cell_type": "markdown",
   "id": "2021417f",
   "metadata": {},
   "source": [
    "4.  What does this code print, and why?\n",
    "\n",
    "def func(a, **kargs):print(a, kargs)\n",
    "\n",
    "func(a=1, c=3, b=2)\n",
    "\n",
    "Answer -\n",
    "The special syntax **kargs in function definitions in python is used to pass a keyworded, variable-length argument list. We use the name kwargs with the double star. The reason is because the double star allows us to pass through keyword arguments (and any number of them)."
   ]
  },
  {
   "cell_type": "code",
   "execution_count": 14,
   "id": "a3879777",
   "metadata": {},
   "outputs": [
    {
     "name": "stdout",
     "output_type": "stream",
     "text": [
      "1 {'c': 3, 'b': 2}\n"
     ]
    }
   ],
   "source": [
    "def func(a, **kargs):\n",
    "    print(a, kargs)\n",
    "func(a=1, c=3, b=2)"
   ]
  },
  {
   "cell_type": "markdown",
   "id": "f97c0d39",
   "metadata": {},
   "source": [
    "5.  What gets printed by this, and explain?\n",
    "\n",
    "def func(a, b, c=8, d=5): print(a, b, c, d)\n",
    "\n",
    "func(1, *(5, 6))\n"
   ]
  },
  {
   "cell_type": "code",
   "execution_count": 21,
   "id": "578f0c43",
   "metadata": {},
   "outputs": [
    {
     "name": "stdout",
     "output_type": "stream",
     "text": [
      "1 10 4 100 55\n"
     ]
    }
   ],
   "source": [
    "def func(a, b, c=8, d=3,e=55): \n",
    "    print(a, b, c, d,e)\n",
    "func(1, *(10, 4,100))"
   ]
  },
  {
   "cell_type": "markdown",
   "id": "cc6e5592",
   "metadata": {},
   "source": [
    "6. what is the result of this, and explain?\n",
    "\n",
    "def func(a, b, c): a = 2; b[0] = 'x'; c['a'] = 'y'\n",
    "\n",
    "l=1; m=[1]; n={'a':0}\n",
    "\n",
    "func(l, m, n)"
   ]
  },
  {
   "cell_type": "code",
   "execution_count": 22,
   "id": "22dfd774",
   "metadata": {},
   "outputs": [],
   "source": [
    "def func(a, b, c): \n",
    "    a = 2; b[0] = 'x'; c['a'] = 'y'\n",
    "l=1; m=[1]; n={'a':0}\n",
    "func(l, m, n)"
   ]
  },
  {
   "cell_type": "code",
   "execution_count": null,
   "id": "7fa627cf",
   "metadata": {},
   "outputs": [],
   "source": []
  }
 ],
 "metadata": {
  "kernelspec": {
   "display_name": "Python 3 (ipykernel)",
   "language": "python",
   "name": "python3"
  },
  "language_info": {
   "codemirror_mode": {
    "name": "ipython",
    "version": 3
   },
   "file_extension": ".py",
   "mimetype": "text/x-python",
   "name": "python",
   "nbconvert_exporter": "python",
   "pygments_lexer": "ipython3",
   "version": "3.9.12"
  }
 },
 "nbformat": 4,
 "nbformat_minor": 5
}
