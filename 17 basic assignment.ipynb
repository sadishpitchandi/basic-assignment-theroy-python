{
 "cells": [
  {
   "cell_type": "code",
   "execution_count": null,
   "id": "43c4a7c0",
   "metadata": {},
   "outputs": [],
   "source": [
    "1. Assign the value 7 to the variable guess_me. Then, write the conditional tests (if, else, and elif) to print the string 'too low' if guess_me is less than 7, 'too high' if greater than 7, and 'just right' if equal to 7."
   ]
  },
  {
   "cell_type": "code",
   "execution_count": 2,
   "id": "c1583087",
   "metadata": {},
   "outputs": [
    {
     "name": "stdout",
     "output_type": "stream",
     "text": [
      "just right\n"
     ]
    }
   ],
   "source": [
    "guess_me = 7\n",
    "if guess_me < 7:\n",
    " print('too low')\n",
    "elif guess_me > 7:\n",
    " print('too high')\n",
    "else :\n",
    " print('just right')"
   ]
  },
  {
   "cell_type": "markdown",
   "id": "76d7fac3",
   "metadata": {},
   "source": [
    "2.  Assign the value 7 to the variable guess_me and the value 1 to the variable start. Write a while loop that compares start with guess_me. Print too low if start is less than guess me. If start equals guess_me, print 'found it!' and exit the loop. If start is greater than guess_me, print 'oops' and exit the loop. Increment start at the end of the loop."
   ]
  },
  {
   "cell_type": "code",
   "execution_count": 6,
   "id": "e77ab0ec",
   "metadata": {},
   "outputs": [
    {
     "name": "stdout",
     "output_type": "stream",
     "text": [
      "too low\n",
      "too low\n",
      "too low\n",
      "too low\n",
      "too low\n",
      "too low\n",
      "found it \n"
     ]
    }
   ],
   "source": [
    "\n",
    "guess_me = 7\n",
    "start=1\n",
    "while True:\n",
    "    if start < guess_me:\n",
    "        print(\"too low\")\n",
    "    elif start == guess_me:\n",
    "        print(\"found it \")\n",
    "        break\n",
    "    elif start > guess_me:\n",
    "        print(\"oops\")\n",
    "        break\n",
    "\n",
    "    start += 1"
   ]
  },
  {
   "cell_type": "code",
   "execution_count": null,
   "id": "e6f3122f",
   "metadata": {},
   "outputs": [],
   "source": [
    "3. Print the following values of the list [3, 2, 1, 0] using a for loop."
   ]
  },
  {
   "cell_type": "code",
   "execution_count": 14,
   "id": "78189f14",
   "metadata": {},
   "outputs": [
    {
     "name": "stdout",
     "output_type": "stream",
     "text": [
      "3\n",
      "2\n",
      "1\n",
      "0\n"
     ]
    }
   ],
   "source": [
    "values = [3, 2, 1, 0]\n",
    "for i in values:\n",
    "    print(i)"
   ]
  },
  {
   "cell_type": "code",
   "execution_count": null,
   "id": "d01b5531",
   "metadata": {},
   "outputs": [],
   "source": [
    "4. Use a list comprehension to make a list of the even numbers in range(10)"
   ]
  },
  {
   "cell_type": "code",
   "execution_count": 19,
   "id": "8432e1f2",
   "metadata": {},
   "outputs": [
    {
     "data": {
      "text/plain": [
       "[0, 2, 4, 6, 8]"
      ]
     },
     "execution_count": 19,
     "metadata": {},
     "output_type": "execute_result"
    }
   ],
   "source": [
    "even = [number for number in range(10) if number % 2 == 0]\n",
    "even"
   ]
  },
  {
   "cell_type": "markdown",
   "id": "3fbd5d82",
   "metadata": {},
   "source": [
    "5. Use a dictionary comprehension to create the dictionary squares. Use range(10) to return the keys, and use the square of each key as its value."
   ]
  },
  {
   "cell_type": "code",
   "execution_count": 20,
   "id": "6378bab6",
   "metadata": {},
   "outputs": [
    {
     "data": {
      "text/plain": [
       "{0: 0, 1: 1, 2: 4, 3: 9, 4: 16, 5: 25, 6: 36, 7: 49, 8: 64, 9: 81}"
      ]
     },
     "execution_count": 20,
     "metadata": {},
     "output_type": "execute_result"
    }
   ],
   "source": [
    "squares = {key: key*key for key in range(10)}\n",
    "squares"
   ]
  },
  {
   "cell_type": "markdown",
   "id": "d7a32b5b",
   "metadata": {},
   "source": [
    "6. Construct the set odd from the odd numbers in the range using a set comprehension (10)."
   ]
  },
  {
   "cell_type": "code",
   "execution_count": 26,
   "id": "d2b3f19e",
   "metadata": {},
   "outputs": [
    {
     "name": "stdout",
     "output_type": "stream",
     "text": [
      "odd number  1\n",
      "odd number  3\n",
      "odd number  5\n",
      "odd number  7\n",
      "odd number  9\n"
     ]
    },
    {
     "data": {
      "text/plain": [
       "[1, 3, 5, 7, 9]"
      ]
     },
     "execution_count": 26,
     "metadata": {},
     "output_type": "execute_result"
    }
   ],
   "source": [
    "for set in range(10):\n",
    "    if set%2==1:\n",
    "        print(\"odd number \" ,set)\n",
    "          \n",
    "odd= [set  for set in range(10) if set %2==1]\n",
    "odd"
   ]
  },
  {
   "cell_type": "markdown",
   "id": "613f5e84",
   "metadata": {},
   "source": [
    "7. Use a generator comprehension to return the string 'Got ' and a number for the numbers in range(10). Iterate through this by using a for loop."
   ]
  },
  {
   "cell_type": "code",
   "execution_count": 35,
   "id": "d58c733d",
   "metadata": {},
   "outputs": [
    {
     "name": "stdout",
     "output_type": "stream",
     "text": [
      "Got 0 \n",
      "Got 1 \n",
      "Got 2 \n",
      "Got 3 \n",
      "Got 4 \n",
      "Got 5 \n",
      "Got 6 \n",
      "Got 7 \n",
      "Got 8 \n",
      "Got 9 \n"
     ]
    }
   ],
   "source": [
    "for thing in ('Got %s '%number for number in range(10)):\n",
    "    print(thing)"
   ]
  },
  {
   "cell_type": "code",
   "execution_count": null,
   "id": "32a7563a",
   "metadata": {},
   "outputs": [],
   "source": [
    "8. Define a function called good that returns the list ['Harry', 'Ron', 'Hermione']."
   ]
  },
  {
   "cell_type": "code",
   "execution_count": 40,
   "id": "0429f80b",
   "metadata": {},
   "outputs": [
    {
     "data": {
      "text/plain": [
       "['Harry', 'Ron', 'Hermione']"
      ]
     },
     "execution_count": 40,
     "metadata": {},
     "output_type": "execute_result"
    }
   ],
   "source": [
    "def good():\n",
    "    return  ['Harry', 'Ron', 'Hermione']\n",
    "good()"
   ]
  },
  {
   "cell_type": "markdown",
   "id": "2aba4be4",
   "metadata": {},
   "source": [
    "9. Define a generator function called get_odds that returns the odd numbers from range(10). Use a for loop to find and print the third value returned."
   ]
  },
  {
   "cell_type": "code",
   "execution_count": 15,
   "id": "3a909d87",
   "metadata": {},
   "outputs": [
    {
     "name": "stdout",
     "output_type": "stream",
     "text": [
      "The third odd number is 5\n"
     ]
    }
   ],
   "source": [
    "def get_odds():\n",
    "    for number in range(1, 10, 2):\n",
    "        yield number\n",
    "count = 1\n",
    "for number in get_odds():\n",
    "    if count == 3:\n",
    "        print(\"The third odd number is\", number)\n",
    "        break\n",
    "    count += 1"
   ]
  },
  {
   "cell_type": "markdown",
   "id": "3a7692d2",
   "metadata": {},
   "source": [
    "10 Define an exception called OopsException. Raise this exception to see what happens. Then write the code to catch this exception and print 'Caught an oops'.\n"
   ]
  },
  {
   "cell_type": "code",
   "execution_count": 16,
   "id": "b88d69d4",
   "metadata": {},
   "outputs": [
    {
     "ename": "OopsException",
     "evalue": "",
     "output_type": "error",
     "traceback": [
      "\u001b[1;31m---------------------------------------------------------------------------\u001b[0m",
      "\u001b[1;31mOopsException\u001b[0m                             Traceback (most recent call last)",
      "Input \u001b[1;32mIn [16]\u001b[0m, in \u001b[0;36m<cell line: 3>\u001b[1;34m()\u001b[0m\n\u001b[0;32m      1\u001b[0m \u001b[38;5;28;01mclass\u001b[39;00m \u001b[38;5;21;01mOopsException\u001b[39;00m(\u001b[38;5;167;01mException\u001b[39;00m):\n\u001b[0;32m      2\u001b[0m     \u001b[38;5;28;01mpass\u001b[39;00m\n\u001b[1;32m----> 3\u001b[0m \u001b[38;5;28;01mraise\u001b[39;00m OopsException()\n",
      "\u001b[1;31mOopsException\u001b[0m: "
     ]
    }
   ],
   "source": [
    "class OopsException(Exception):\n",
    "    pass\n",
    "raise OopsException()"
   ]
  },
  {
   "cell_type": "code",
   "execution_count": 18,
   "id": "83add670",
   "metadata": {},
   "outputs": [
    {
     "name": "stdout",
     "output_type": "stream",
     "text": [
      "Caught an oops\n"
     ]
    }
   ],
   "source": [
    "try:\n",
    "    raise OopsException\n",
    "except OopsException:\n",
    "    print('Caught an oops')"
   ]
  },
  {
   "cell_type": "markdown",
   "id": "0af4db37",
   "metadata": {},
   "source": [
    "Use zip() to make a dictionary called movies that pairs these lists: titles = ['Creature of Habit', 'Crewel Fate'] and plots = ['A nun turns into a monster', 'A haunted yarn shop']."
   ]
  },
  {
   "cell_type": "code",
   "execution_count": 17,
   "id": "51b7d70e",
   "metadata": {},
   "outputs": [
    {
     "data": {
      "text/plain": [
       "{'Creature of Habit': 'A nun turns into a monster',\n",
       " 'Crewel Fate': 'A haunted yarn shop'}"
      ]
     },
     "execution_count": 17,
     "metadata": {},
     "output_type": "execute_result"
    }
   ],
   "source": [
    "titles = ['Creature of Habit', 'Crewel Fate']\n",
    "plots = ['A nun turns into a monster', 'A haunted yarn shop']\n",
    "movies = dict(zip(titles, plots))\n",
    "movies"
   ]
  },
  {
   "cell_type": "code",
   "execution_count": null,
   "id": "d650fb08",
   "metadata": {},
   "outputs": [],
   "source": []
  }
 ],
 "metadata": {
  "kernelspec": {
   "display_name": "Python 3 (ipykernel)",
   "language": "python",
   "name": "python3"
  },
  "language_info": {
   "codemirror_mode": {
    "name": "ipython",
    "version": 3
   },
   "file_extension": ".py",
   "mimetype": "text/x-python",
   "name": "python",
   "nbconvert_exporter": "python",
   "pygments_lexer": "ipython3",
   "version": "3.9.12"
  }
 },
 "nbformat": 4,
 "nbformat_minor": 5
}
