{
 "cells": [
  {
   "cell_type": "markdown",
   "id": "da78cc71",
   "metadata": {},
   "source": [
    "1. Add the current date to the text file today.txt as a string."
   ]
  },
  {
   "cell_type": "code",
   "execution_count": 4,
   "id": "1add7911",
   "metadata": {},
   "outputs": [],
   "source": [
    "from datetime import date\n",
    "now = date.today()\n",
    "now_str = now.isoformat()\n",
    "with open('today.txt', 'wt') as output:\n",
    "    print(now_str, file=output)"
   ]
  },
  {
   "cell_type": "markdown",
   "id": "1e6c94d2",
   "metadata": {},
   "source": [
    "2.  Read the text file today.txt into the string today_string"
   ]
  },
  {
   "cell_type": "code",
   "execution_count": 5,
   "id": "a3d62156",
   "metadata": {},
   "outputs": [
    {
     "data": {
      "text/plain": [
       "'2022-12-19\\n'"
      ]
     },
     "execution_count": 5,
     "metadata": {},
     "output_type": "execute_result"
    }
   ],
   "source": [
    "with open('today.txt', 'rt') as input:\n",
    "    today_string = input.read()\n",
    "    \n",
    "today_string"
   ]
  },
  {
   "cell_type": "markdown",
   "id": "6a3c3978",
   "metadata": {},
   "source": [
    "3. Parse the date from today_string."
   ]
  },
  {
   "cell_type": "code",
   "execution_count": 15,
   "id": "2327f318",
   "metadata": {},
   "outputs": [
    {
     "data": {
      "text/plain": [
       "datetime.datetime(2022, 12, 19, 0, 0)"
      ]
     },
     "execution_count": 15,
     "metadata": {},
     "output_type": "execute_result"
    }
   ],
   "source": [
    "from datetime import datetime\n",
    "fmt = '%Y-%m-%d\\n'\n",
    "datetime.strptime(today_string, fmt)"
   ]
  },
  {
   "cell_type": "markdown",
   "id": "7a0e7bc6",
   "metadata": {},
   "source": [
    "4. List the files in your current directory"
   ]
  },
  {
   "cell_type": "code",
   "execution_count": 1,
   "id": "3bbc2505",
   "metadata": {},
   "outputs": [
    {
     "data": {
      "text/plain": [
       "['-1.14-windows.xml',\n",
       " '.android',\n",
       " '.astropy',\n",
       " '.bash_history',\n",
       " '.conda',\n",
       " '.gitconfig',\n",
       " '.ipynb_checkpoints',\n",
       " '.ipython',\n",
       " '.jupyter',\n",
       " '.keras',\n",
       " '.lesshst',\n",
       " '.matplotlib',\n",
       " '.vscode',\n",
       " '1 Basic assignment .ipynb',\n",
       " '1.jpg',\n",
       " '10 basic assingment.ipynb',\n",
       " '11  Basic Program .ipynb',\n",
       " '11 basic addiebhkmljo.ipynb',\n",
       " '11. basic  Assiognment.ipynb',\n",
       " '12 basic program.ipynb',\n",
       " '13 basic program.ipynb',\n",
       " '14 basic program.ipynb',\n",
       " '15 basic program -Copy1.ipynb',\n",
       " '15 basic program .ipynb',\n",
       " '16 basic program.ipynb',\n",
       " '17 basic assignment.ipynb',\n",
       " '18 basic program.ipynb',\n",
       " '19 basic program.ipynb',\n",
       " '2. Basic Assignment.ipynb',\n",
       " '2.png',\n",
       " '20 basic program .ipynb',\n",
       " '21 basic program .ipynb',\n",
       " '3 Basic programming.ipynb',\n",
       " '3.png',\n",
       " '3D Objects',\n",
       " '4. Basic assignment .ipynb',\n",
       " '4.png',\n",
       " '5. Basic programming.ipynb',\n",
       " '6. Basic assignments.ipynb',\n",
       " '7. Basic assignments.ipynb',\n",
       " '8. Basic assignments.ipynb',\n",
       " '9. Basic Assiginment .ipynb',\n",
       " 'Activation Functions.ipynb',\n",
       " 'ansel',\n",
       " 'AppData',\n",
       " 'Application Data',\n",
       " 'books.csv',\n",
       " 'books.db',\n",
       " 'Capture1.PNG',\n",
       " 'Churn_Modelling.csv',\n",
       " 'comp.gif',\n",
       " 'Contacts',\n",
       " 'Cookies',\n",
       " 'District name.csv',\n",
       " 'Documents',\n",
       " 'Downloads',\n",
       " 'Eda, models.ipynb',\n",
       " 'elu.jpg',\n",
       " 'elu.svg',\n",
       " 'Favorites',\n",
       " 'gui.ipynb',\n",
       " 'im.png',\n",
       " 'images.jpg',\n",
       " 'img1.png',\n",
       " 'img10.png',\n",
       " 'img11.png',\n",
       " 'img12.png',\n",
       " 'img13.png',\n",
       " 'img15.png',\n",
       " 'img2.png',\n",
       " 'img3.png',\n",
       " 'img4.png',\n",
       " 'img5.png',\n",
       " 'img6.png',\n",
       " 'img7.png',\n",
       " 'img8.png',\n",
       " 'img9.png',\n",
       " 'Links',\n",
       " 'Local Settings',\n",
       " 'Loss function.ipynb',\n",
       " 'lrelu.png',\n",
       " 'machine_learning_project',\n",
       " 'max.jpeg',\n",
       " 'mspaint.exe',\n",
       " 'Music',\n",
       " 'My Documents',\n",
       " 'nest.png',\n",
       " 'NetHood',\n",
       " 'NTUSER.DAT',\n",
       " 'ntuser.dat.LOG1',\n",
       " 'ntuser.dat.LOG2',\n",
       " 'NTUSER.DAT{1c2b59c6-c5f5-11eb-bacb-000d3a96488e}.TM.blf',\n",
       " 'NTUSER.DAT{1c2b59c6-c5f5-11eb-bacb-000d3a96488e}.TMContainer00000000000000000001.regtrans-ms',\n",
       " 'NTUSER.DAT{1c2b59c6-c5f5-11eb-bacb-000d3a96488e}.TMContainer00000000000000000002.regtrans-ms',\n",
       " 'NTUSER.DAT{c5f176ea-154d-11ed-a532-50814090a3ac}.TM.blf',\n",
       " 'NTUSER.DAT{c5f176ea-154d-11ed-a532-50814090a3ac}.TMContainer00000000000000000001.regtrans-ms',\n",
       " 'NTUSER.DAT{c5f176ea-154d-11ed-a532-50814090a3ac}.TMContainer00000000000000000002.regtrans-ms',\n",
       " 'ntuser.ini',\n",
       " 'OneDrive',\n",
       " 'Optimizers.ipynb',\n",
       " 'presidency excel .csv',\n",
       " 'PrintHood',\n",
       " 'PycharmProjects',\n",
       " 'rainfall.ipynb',\n",
       " 'Recent',\n",
       " 'relu.png',\n",
       " 'relu.svg',\n",
       " 'rmc.ipynb',\n",
       " 'sadd.gif',\n",
       " 'Saved Games',\n",
       " 'Searches',\n",
       " 'SendTo',\n",
       " 'sgd.png',\n",
       " 'sgd1.png',\n",
       " 'sig.svg',\n",
       " 'soft1.png',\n",
       " 'soft2.png',\n",
       " 'soft31.png',\n",
       " 'soft4.png',\n",
       " 'Start Menu',\n",
       " 'swish.png',\n",
       " 'swish.tiff',\n",
       " 'Tamil_Nadu_District_Map-English.png',\n",
       " 'tan.svg',\n",
       " 'Templates',\n",
       " 'test.txt',\n",
       " 'today.txt',\n",
       " 'UCI_Credit_Card.csv',\n",
       " 'Untitled.ipynb',\n",
       " 'Untitled3.ipynb',\n",
       " 'Untitled63.ipynb',\n",
       " 'Videos']"
      ]
     },
     "execution_count": 1,
     "metadata": {},
     "output_type": "execute_result"
    }
   ],
   "source": [
    "import os\n",
    "os.listdir('.')"
   ]
  },
  {
   "cell_type": "code",
   "execution_count": null,
   "id": "38ec9295",
   "metadata": {},
   "outputs": [],
   "source": [
    "5.  Create a list of all of the files in your parent directory (minimum five files should be available)."
   ]
  },
  {
   "cell_type": "code",
   "execution_count": 3,
   "id": "33f25a8e",
   "metadata": {},
   "outputs": [
    {
     "data": {
      "text/plain": [
       "['All Users', 'Default', 'Default User', 'desktop.ini', 'Public', 'sadish']"
      ]
     },
     "execution_count": 3,
     "metadata": {},
     "output_type": "execute_result"
    }
   ],
   "source": [
    "os.listdir('..')"
   ]
  },
  {
   "cell_type": "markdown",
   "id": "b8d17dc6",
   "metadata": {},
   "source": [
    "6.  Use multiprocessing to create three separate processes. Make each one wait a random number of seconds between one and five, print the current time, and then exit."
   ]
  },
  {
   "cell_type": "code",
   "execution_count": 17,
   "id": "972ac5d1",
   "metadata": {},
   "outputs": [
    {
     "name": "stderr",
     "output_type": "stream",
     "text": [
      "python: can't open file 'C:\\Users\\sadish\\multiprocessing.py': [Errno 2] No such file or directory\n"
     ]
    }
   ],
   "source": [
    "!python multiprocessing.py"
   ]
  },
  {
   "cell_type": "code",
   "execution_count": 20,
   "id": "16de47b2",
   "metadata": {},
   "outputs": [
    {
     "name": "stdout",
     "output_type": "stream",
     "text": [
      "starting processes\n",
      "Process 0 will sleep for 7\n",
      "starting processes\n",
      "Process 1 will sleep for 7\n",
      "starting processes\n",
      "Process 2 will sleep for 3\n"
     ]
    }
   ],
   "source": [
    "import multiprocessing\n",
    "from datetime import datetime \n",
    "from time import sleep \n",
    "import random\n",
    "\n",
    "def now_sleep(seconds): \n",
    "    print('wait', seconds, 'seconds, time is', datetime.utcnow())\n",
    "    sleep(seconds) \n",
    "    print(\"Finished Process!\")\n",
    "\n",
    "if __name__ == '__main__':\n",
    "    for n in range(3): \n",
    "        print(\"starting processes\")\n",
    "        seconds = random.randint(1, 10) \n",
    "        print(f\"Process {n} will sleep for {seconds}\")\n",
    "        proc = multiprocessing.Process(target=now_sleep, args=(seconds,)) \n",
    "        proc.start()"
   ]
  },
  {
   "cell_type": "markdown",
   "id": "8137fb92",
   "metadata": {},
   "source": [
    "7.  Create a date object of your day of birth."
   ]
  },
  {
   "cell_type": "code",
   "execution_count": 35,
   "id": "7f7269aa",
   "metadata": {},
   "outputs": [
    {
     "data": {
      "text/plain": [
       "datetime.date(2000, 6, 27)"
      ]
     },
     "execution_count": 35,
     "metadata": {},
     "output_type": "execute_result"
    }
   ],
   "source": [
    "\n",
    "from datetime import date\n",
    "my_day = date(2000, 6, 27)\n",
    "my_day\n"
   ]
  },
  {
   "cell_type": "markdown",
   "id": "0a2b29e0",
   "metadata": {},
   "source": [
    "8. What day of the week was your day of birth?\n",
    "\n",
    "Answer -\n",
    "With weekday(), Monday is 0 and Sunday is 6. With isoweekday(), Monday is 1 and\n",
    "\n",
    "Sunday is 7. Therefore, this date is a Saturday."
   ]
  },
  {
   "cell_type": "code",
   "execution_count": 31,
   "id": "6ab98527",
   "metadata": {},
   "outputs": [
    {
     "data": {
      "text/plain": [
       "6"
      ]
     },
     "execution_count": 31,
     "metadata": {},
     "output_type": "execute_result"
    }
   ],
   "source": [
    "\n",
    "my_day.isoweekday()"
   ]
  },
  {
   "cell_type": "code",
   "execution_count": 32,
   "id": "61c822bf",
   "metadata": {},
   "outputs": [
    {
     "data": {
      "text/plain": [
       "5"
      ]
     },
     "execution_count": 32,
     "metadata": {},
     "output_type": "execute_result"
    }
   ],
   "source": [
    "my_day.weekday()"
   ]
  },
  {
   "cell_type": "code",
   "execution_count": null,
   "id": "67c89b9f",
   "metadata": {},
   "outputs": [],
   "source": [
    "9.  When will you be (or when were you) 10,000 days old?"
   ]
  },
  {
   "cell_type": "code",
   "execution_count": 36,
   "id": "c7fb5084",
   "metadata": {},
   "outputs": [
    {
     "data": {
      "text/plain": [
       "datetime.date(2027, 11, 13)"
      ]
     },
     "execution_count": 36,
     "metadata": {},
     "output_type": "execute_result"
    }
   ],
   "source": [
    "from datetime import timedelta\n",
    "ten_thousand = my_day + timedelta(days=10000)\n",
    "ten_thousand"
   ]
  },
  {
   "cell_type": "code",
   "execution_count": null,
   "id": "7db3c88a",
   "metadata": {},
   "outputs": [],
   "source": []
  }
 ],
 "metadata": {
  "kernelspec": {
   "display_name": "Python 3 (ipykernel)",
   "language": "python",
   "name": "python3"
  },
  "language_info": {
   "codemirror_mode": {
    "name": "ipython",
    "version": 3
   },
   "file_extension": ".py",
   "mimetype": "text/x-python",
   "name": "python",
   "nbconvert_exporter": "python",
   "pygments_lexer": "ipython3",
   "version": "3.9.12"
  }
 },
 "nbformat": 4,
 "nbformat_minor": 5
}
