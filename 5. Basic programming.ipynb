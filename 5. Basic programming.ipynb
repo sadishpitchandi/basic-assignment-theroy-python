{
 "cells": [
  {
   "cell_type": "markdown",
   "id": "1a6d217c",
   "metadata": {},
   "source": [
    "1. What does an empty dictionary's code look like?"
   ]
  },
  {
   "cell_type": "code",
   "execution_count": 1,
   "id": "34f03705",
   "metadata": {},
   "outputs": [
    {
     "ename": "SyntaxError",
     "evalue": "invalid syntax (270403933.py, line 2)",
     "output_type": "error",
     "traceback": [
      "\u001b[1;36m  Input \u001b[1;32mIn [1]\u001b[1;36m\u001b[0m\n\u001b[1;33m    Empty dict code looks like two curly braces, open and close\u001b[0m\n\u001b[1;37m          ^\u001b[0m\n\u001b[1;31mSyntaxError\u001b[0m\u001b[1;31m:\u001b[0m invalid syntax\n"
     ]
    }
   ],
   "source": [
    "{}\n",
    "Empty dict code looks like two curly braces, open and close \n",
    "eg  Initialization : empty_dict={}"
   ]
  },
  {
   "cell_type": "markdown",
   "id": "b499abb9",
   "metadata": {},
   "source": [
    "2. What is the value of a dict value with the key \"foo\" and the value 42?"
   ]
  },
  {
   "cell_type": "code",
   "execution_count": null,
   "id": "fc73af43",
   "metadata": {},
   "outputs": [],
   "source": [
    "{\"foo\":42}"
   ]
  },
  {
   "cell_type": "markdown",
   "id": "c64f4b88",
   "metadata": {},
   "source": [
    "3.What is the most siginificant  distinction between a dict and list?"
   ]
  },
  {
   "cell_type": "code",
   "execution_count": null,
   "id": "9f9f07f1",
   "metadata": {},
   "outputs": [],
   "source": [
    "Both dict and list are collection of objects, while the list stores the object as comma\n",
    "separated values, a dict stores the elements in a key values format."
   ]
  },
  {
   "cell_type": "code",
   "execution_count": null,
   "id": "c811e433",
   "metadata": {},
   "outputs": [],
   "source": [
    "4. What happens if you try to access spam['foo'] if spam is bar"
   ]
  },
  {
   "cell_type": "code",
   "execution_count": null,
   "id": "03a2c56b",
   "metadata": {},
   "outputs": [],
   "source": [
    "Exception of type keyerror occurs as the key foo is not avaiable in the dict spam."
   ]
  },
  {
   "cell_type": "code",
   "execution_count": null,
   "id": "3cce321e",
   "metadata": {},
   "outputs": [],
   "source": [
    "5. If a dict is stored in spam, What is the difference between the expressions'cat' in spam and 'cat' in spam.keys()?"
   ]
  },
  {
   "cell_type": "code",
   "execution_count": null,
   "id": "79193502",
   "metadata": {},
   "outputs": [],
   "source": [
    "Both 'cat' in spam and 'cat' in spam.keys() would get give the same result in Python3.X version."
   ]
  },
  {
   "cell_type": "code",
   "execution_count": null,
   "id": "3b4b3c4a",
   "metadata": {},
   "outputs": [],
   "source": [
    "6. If a dict is stored in spam, What is the difference between the expressions'cat' in spam and 'cat' in spam.values()?"
   ]
  },
  {
   "cell_type": "code",
   "execution_count": null,
   "id": "62b2ffc1",
   "metadata": {},
   "outputs": [],
   "source": [
    "'cat' in spam  looks for the string cat in the spam dict keys\n",
    "'cat' in spam.values() will look for the string cat in the vallues of the dict spam."
   ]
  },
  {
   "cell_type": "code",
   "execution_count": null,
   "id": "ac2a2d5c",
   "metadata": {},
   "outputs": [],
   "source": [
    "7. What is a shortcut of the following code?"
   ]
  },
  {
   "cell_type": "code",
   "execution_count": null,
   "id": "10c069ae",
   "metadata": {},
   "outputs": [],
   "source": [
    "If \"color\" not in spam['color']='black'\n",
    "#ANSWER\n",
    "spam.setdefault('color',black)"
   ]
  },
  {
   "cell_type": "code",
   "execution_count": null,
   "id": "026bedda",
   "metadata": {},
   "outputs": [],
   "source": [
    "8. How do you \"pretty print\" dict values using which module and functions?"
   ]
  },
  {
   "cell_type": "code",
   "execution_count": null,
   "id": "047bea6c",
   "metadata": {},
   "outputs": [],
   "source": [
    "pprint moudle is used to pretty print  dict pprint.pprint()"
   ]
  },
  {
   "cell_type": "code",
   "execution_count": null,
   "id": "baa9c8c7",
   "metadata": {},
   "outputs": [],
   "source": []
  },
  {
   "cell_type": "code",
   "execution_count": null,
   "id": "c30125a3",
   "metadata": {},
   "outputs": [],
   "source": []
  },
  {
   "cell_type": "code",
   "execution_count": null,
   "id": "735aab72",
   "metadata": {},
   "outputs": [],
   "source": []
  },
  {
   "cell_type": "code",
   "execution_count": null,
   "id": "d2538729",
   "metadata": {},
   "outputs": [],
   "source": []
  },
  {
   "cell_type": "code",
   "execution_count": null,
   "id": "00984bee",
   "metadata": {},
   "outputs": [],
   "source": []
  },
  {
   "cell_type": "code",
   "execution_count": null,
   "id": "65370f78",
   "metadata": {},
   "outputs": [],
   "source": []
  },
  {
   "cell_type": "code",
   "execution_count": null,
   "id": "a6896d0b",
   "metadata": {},
   "outputs": [],
   "source": []
  },
  {
   "cell_type": "code",
   "execution_count": null,
   "id": "c7529ed5",
   "metadata": {},
   "outputs": [],
   "source": []
  },
  {
   "cell_type": "code",
   "execution_count": null,
   "id": "76d978fd",
   "metadata": {},
   "outputs": [],
   "source": []
  },
  {
   "cell_type": "code",
   "execution_count": null,
   "id": "5a5d5197",
   "metadata": {},
   "outputs": [],
   "source": []
  }
 ],
 "metadata": {
  "kernelspec": {
   "display_name": "Python 3 (ipykernel)",
   "language": "python",
   "name": "python3"
  },
  "language_info": {
   "codemirror_mode": {
    "name": "ipython",
    "version": 3
   },
   "file_extension": ".py",
   "mimetype": "text/x-python",
   "name": "python",
   "nbconvert_exporter": "python",
   "pygments_lexer": "ipython3",
   "version": "3.9.12"
  }
 },
 "nbformat": 4,
 "nbformat_minor": 5
}
