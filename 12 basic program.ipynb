{
 "cells": [
  {
   "cell_type": "markdown",
   "id": "3e0ae969",
   "metadata": {},
   "source": [
    "##1. In what modes should the PdfFileReader() and pdffilewriter() file objects will be opened?\n"
   ]
  },
  {
   "cell_type": "code",
   "execution_count": null,
   "id": "a397fcf2",
   "metadata": {},
   "outputs": [],
   "source": [
    "#pip install PyPdf2\n",
    "\n",
    "these files will be opened in binary mode, read library (rb) for PdfFileReader() and write binary(wb) PdfFileWriter()."
   ]
  },
  {
   "cell_type": "markdown",
   "id": "bf3a3819",
   "metadata": {},
   "source": [
    "2.From a PdfFileReader object, how do you get a page object for pages 5?"
   ]
  },
  {
   "cell_type": "code",
   "execution_count": null,
   "id": "2acd8291",
   "metadata": {},
   "outputs": [],
   "source": [
    "Calling getPage(4) will return a Page object for page 5 ( indexes start from 0 just like arrays)\n",
    "\n",
    "import PyPDF2 as pdf\n",
    "pdf[FileOB]=opne(\"my_sample_file.pdf\",'rb')\n",
    "pdfreader=pdf.PdfFileReader(pdfFileObj)\n",
    "pageObj=pdfReader.getPAGES(4)\n",
    "pageobj.extracttext()"
   ]
  },
  {
   "cell_type": "code",
   "execution_count": null,
   "id": "da757a41",
   "metadata": {},
   "outputs": [],
   "source": [
    "3. What PdfFileReader variables store the number of pages in the Pdf documents?"
   ]
  },
  {
   "cell_type": "code",
   "execution_count": null,
   "id": "f81fb5eb",
   "metadata": {},
   "outputs": [],
   "source": [
    "The numPages varibles store the number of pages in the pdfFileReader object in interger format\n",
    "\n",
    "import PyPDF2 as pdf\n",
    "pdffileobject=open(\"my_samples_file.pdf\",'rb')\n",
    "pdfreader=df.PdfFileReader(pdfFileObj)\n",
    "pdfReader.numPages"
   ]
  },
  {
   "cell_type": "code",
   "execution_count": null,
   "id": "71646816",
   "metadata": {},
   "outputs": [],
   "source": [
    "4. If a PdfFilereader object Pdf is encrypted with the pass swordfish, what must you do before you can object page object from it?"
   ]
  },
  {
   "cell_type": "code",
   "execution_count": null,
   "id": "e8f0f4e2",
   "metadata": {},
   "outputs": [],
   "source": [
    "before we obtain the page object the pdf has to be decrypted by calling \n",
    ".decrypt('swordfish')\n",
    "pdfreader.decrypt('swordfish')"
   ]
  },
  {
   "cell_type": "code",
   "execution_count": null,
   "id": "0bfa41a3",
   "metadata": {},
   "outputs": [],
   "source": [
    "5.  What methods do you use to rotate a page?"
   ]
  },
  {
   "cell_type": "code",
   "execution_count": null,
   "id": "0c2ee4e7",
   "metadata": {},
   "outputs": [],
   "source": [
    "The rotateClockwise() and rotateCounterClockwise() methods.\n",
    "The degrees to rotate is passed as an interger aruguments\n",
    "\n",
    "\n",
    "#pageobj.ritateClockwise(180)"
   ]
  },
  {
   "cell_type": "code",
   "execution_count": null,
   "id": "bd3f6b49",
   "metadata": {},
   "outputs": [],
   "source": [
    "6. what is the difference between a Run object and a  Paragraphy object?"
   ]
  },
  {
   "cell_type": "code",
   "execution_count": null,
   "id": "6739d80b",
   "metadata": {},
   "outputs": [],
   "source": [
    "paragraphy object:\n",
    "    A document contains multiple paragraphys.\n",
    "    A paragraphy begins on a new line and contains multiple runs.\n",
    "    The document object a list of paragraphy object for the paragraphy in the documents.\n",
    "    A new paragraphy begins whenever the user presses ENTER OR RETURNS while typing in a word documents.\n",
    "Run objects:\n",
    "    Runs are contiguous groups of characters within a paragraphy with the same style."
   ]
  },
  {
   "cell_type": "code",
   "execution_count": null,
   "id": "cec32762",
   "metadata": {},
   "outputs": [],
   "source": [
    "7. How do you obatin a list of paragraphy object for a Document object that stored in a varible named for?"
   ]
  },
  {
   "cell_type": "code",
   "execution_count": null,
   "id": "c0fbcb56",
   "metadata": {},
   "outputs": [],
   "source": [
    "By using doc.paragraphy you can obtain a list of paragraphy objects for a documents objects\n",
    "#pip install python-docx\n",
    "import docx\n",
    "doc=docx.Documents('demo.docx')\n",
    "doc.paragraphs"
   ]
  },
  {
   "cell_type": "code",
   "execution_count": null,
   "id": "51786771",
   "metadata": {},
   "outputs": [],
   "source": [
    "8. What type of object has bold, underline, italic , strike and outline variables?\n"
   ]
  },
  {
   "cell_type": "code",
   "execution_count": null,
   "id": "7795969b",
   "metadata": {},
   "outputs": [],
   "source": [
    " A run object has bold, underline,italic,strike and outline variables"
   ]
  },
  {
   "cell_type": "code",
   "execution_count": null,
   "id": "5bd6d464",
   "metadata": {},
   "outputs": [],
   "source": [
    "9.  What is the difference between False, True and None for the bold variables?"
   ]
  },
  {
   "cell_type": "code",
   "execution_count": null,
   "id": "80e6be02",
   "metadata": {},
   "outputs": [],
   "source": [
    "Runs can be further styled using text attributes. Each attribute can be set to one of three values: \n",
    "True(the attribute is always enables, no matter what other styles ae applied to the run),\n",
    "False(the attribute is always disabled)\n",
    "None ( defaults to whatever the run styles is set to)\n",
    "\n",
    " True = Always makes the run object bolded\n",
    " False = makes it always not bolded no matter what the styles bold setting.\n",
    " None =  will    make the run object just use the styles bold settings\n",
    "                                                                    "
   ]
  },
  {
   "cell_type": "code",
   "execution_count": null,
   "id": "3814c325",
   "metadata": {},
   "outputs": [],
   "source": [
    "10. How do you create a Documents object for a new word documents?"
   ]
  },
  {
   "cell_type": "code",
   "execution_count": null,
   "id": "45c2104a",
   "metadata": {},
   "outputs": [],
   "source": [
    "docx.Documents() function creates a new documents object"
   ]
  },
  {
   "cell_type": "code",
   "execution_count": null,
   "id": "75f2348a",
   "metadata": {},
   "outputs": [],
   "source": [
    "11. How do you add a paragraphy with the text\"hello there!\"\n",
    "to a documents object stored in a  variable named doc?"
   ]
  },
  {
   "cell_type": "code",
   "execution_count": null,
   "id": "4f172dc2",
   "metadata": {},
   "outputs": [],
   "source": [
    "import docx\n",
    "doc=docx.Document()\n",
    "doc.add_paragraphy(\"hello there!\")\n",
    "DOC.SAVE(\"HELLOTHERE.DOCX\")"
   ]
  },
  {
   "cell_type": "code",
   "execution_count": null,
   "id": "969b38c7",
   "metadata": {},
   "outputs": [],
   "source": [
    "12. What intergers represent the levels of headings avaiable in word documents?"
   ]
  },
  {
   "cell_type": "code",
   "execution_count": null,
   "id": "eefa654e",
   "metadata": {},
   "outputs": [],
   "source": [
    "interger from 0 to 4 \n",
    "\n",
    "The aruguments to add_heading() are a string of the heading text and an interger from 0 to 4\n",
    "The interger 0  makes the heading the Title styles, which is used for the top of the document. \n",
    "Intergers 1 to 4 are for various heading levels, with 1 being the main heading and 4 the lowest subheading"
   ]
  }
 ],
 "metadata": {
  "kernelspec": {
   "display_name": "Python 3 (ipykernel)",
   "language": "python",
   "name": "python3"
  },
  "language_info": {
   "codemirror_mode": {
    "name": "ipython",
    "version": 3
   },
   "file_extension": ".py",
   "mimetype": "text/x-python",
   "name": "python",
   "nbconvert_exporter": "python",
   "pygments_lexer": "ipython3",
   "version": "3.9.12"
  }
 },
 "nbformat": 4,
 "nbformat_minor": 5
}
