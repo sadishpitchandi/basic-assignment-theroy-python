{
 "cells": [
  {
   "cell_type": "markdown",
   "id": "fefedc33",
   "metadata": {},
   "source": [
    "1.Why are the function advantageous to have in yours program?"
   ]
  },
  {
   "cell_type": "code",
   "execution_count": null,
   "id": "c6d347e5",
   "metadata": {},
   "outputs": [],
   "source": [
    "functions help organsize our code into reusable pieces of codes,fucntion can be called from anywhere in your python code, even within other fuctions \n",
    "this helps:\n",
    "    1. Runnning same piece of code multiple times\n",
    "    2. Breaking long complex program into smaller components\n",
    "    3. Functions can be shared and used by other developers as well"
   ]
  },
  {
   "cell_type": "markdown",
   "id": "f1c2cc53",
   "metadata": {},
   "source": [
    "2. When does the code in a function run : When its specified or when its called?"
   ]
  },
  {
   "cell_type": "code",
   "execution_count": null,
   "id": "6acba07b",
   "metadata": {},
   "outputs": [],
   "source": [
    "The code inside a function runs only when it called"
   ]
  },
  {
   "cell_type": "markdown",
   "id": "187a0f8b",
   "metadata": {},
   "source": [
    "3. What statement creates a function ?\n"
   ]
  },
  {
   "cell_type": "code",
   "execution_count": null,
   "id": "4adfbc2f",
   "metadata": {},
   "outputs": [],
   "source": [
    "'def statement is used in python to createa  fucntion'"
   ]
  },
  {
   "cell_type": "markdown",
   "id": "100bb03d",
   "metadata": {},
   "source": [
    "4. What is the difference between a fucntion and function call?"
   ]
  },
  {
   "cell_type": "code",
   "execution_count": null,
   "id": "f3412448",
   "metadata": {},
   "outputs": [],
   "source": [
    "Functions or function call  definition is creation or declaring the functions ,\n",
    "eg :\n",
    "     what parameters to accept what actions to perform and values to return , On the other hand functions call is invoking this functions to get some requiredactions/processing done."
   ]
  },
  {
   "cell_type": "markdown",
   "id": "e38ef93e",
   "metadata": {},
   "source": [
    "5. How many global scopes are there in a python program ? how many local scopes?"
   ]
  },
  {
   "cell_type": "code",
   "execution_count": null,
   "id": "7714ab03",
   "metadata": {},
   "outputs": [],
   "source": [
    "Local scope includes all variables defined in the current fucntion and gloval scope includes varibles defined outside of the \n",
    "current function. So one global scope and one local scope."
   ]
  },
  {
   "cell_type": "code",
   "execution_count": null,
   "id": "1575e5b8",
   "metadata": {},
   "outputs": [],
   "source": [
    "6. What happen to variables in a local when the functions call returns?"
   ]
  },
  {
   "cell_type": "code",
   "execution_count": null,
   "id": "f40c9ceb",
   "metadata": {},
   "outputs": [],
   "source": [
    "The Local scope varible will be delected from the memory(local stock) and they will not be available after the function call returns"
   ]
  },
  {
   "cell_type": "code",
   "execution_count": null,
   "id": "0f6956c2",
   "metadata": {},
   "outputs": [],
   "source": [
    "7. What is the concept of a return value? Is it possible to have a return values in an expression ?"
   ]
  },
  {
   "cell_type": "code",
   "execution_count": null,
   "id": "1ebba7ba",
   "metadata": {},
   "outputs": [],
   "source": [
    "Return values by a functions to enable them to send python objects back to the caller code, So that they can use these values to perform further \n",
    "computation in their program. The result of an expression can be sent as a return also an expression can reply on a return values from a functions."
   ]
  },
  {
   "cell_type": "code",
   "execution_count": null,
   "id": "546390f2",
   "metadata": {},
   "outputs": [],
   "source": [
    "8. If a function does not have a return statement what is the return values of a call tpo that function?"
   ]
  },
  {
   "cell_type": "code",
   "execution_count": null,
   "id": "0ddfaf91",
   "metadata": {},
   "outputs": [],
   "source": [
    "If a function does not have a return statement then the return values of a call to that function is None in python"
   ]
  },
  {
   "cell_type": "code",
   "execution_count": null,
   "id": "4c2a0dbf",
   "metadata": {},
   "outputs": [],
   "source": [
    "9.  How do you make a function varible refer to the global varible ?"
   ]
  },
  {
   "cell_type": "code",
   "execution_count": null,
   "id": "92502a01",
   "metadata": {},
   "outputs": [],
   "source": [
    "You can use a global variable within other function by declaring it as global within each function that a assign a value to it example:\n",
    "    \n",
    "    globar =0 \n",
    "    def set_glob_to_one():\n",
    "        global globvar  \n",
    "    globar\n",
    "       globvar = 1"
   ]
  },
  {
   "cell_type": "code",
   "execution_count": null,
   "id": "dfb4609f",
   "metadata": {},
   "outputs": [],
   "source": [
    "10. What is the data type of None?"
   ]
  },
  {
   "cell_type": "code",
   "execution_count": null,
   "id": "34ed8d97",
   "metadata": {},
   "outputs": [],
   "source": [
    "None keywords is an object and is a datatypes of none types in python"
   ]
  },
  {
   "cell_type": "markdown",
   "id": "8fd947a5",
   "metadata": {},
   "source": [
    "11. What does the sentence import areaallyourpetsnamederic do?"
   ]
  },
  {
   "cell_type": "code",
   "execution_count": null,
   "id": "98241acc",
   "metadata": {},
   "outputs": [],
   "source": [
    "The above import statement in python will allow our python code or file to make use\n",
    "of the resuable components defined in areaallyourpetsnamederic moudle."
   ]
  },
  {
   "cell_type": "markdown",
   "id": "254898b4",
   "metadata": {},
   "source": [
    "12.If you had a bacon() feature in a spam module, What would you call it after importing spam ?"
   ]
  },
  {
   "cell_type": "code",
   "execution_count": null,
   "id": "5defde62",
   "metadata": {},
   "outputs": [],
   "source": [
    "spam.bacon()"
   ]
  },
  {
   "cell_type": "markdown",
   "id": "bf791ad8",
   "metadata": {},
   "source": [
    "13. What can you do to save a programme from crashing if it encounters an error?"
   ]
  },
  {
   "cell_type": "code",
   "execution_count": null,
   "id": "46075fd4",
   "metadata": {},
   "outputs": [],
   "source": [
    "Exception handling should be in place for handling runtime errors if encountered while running a program."
   ]
  },
  {
   "cell_type": "markdown",
   "id": "deba8d32",
   "metadata": {},
   "source": [
    "14. What is the purpose of the try clause ? What is the purpose of the except clause?"
   ]
  },
  {
   "cell_type": "code",
   "execution_count": null,
   "id": "3472028d",
   "metadata": {},
   "outputs": [],
   "source": [
    "The try except statement can handle exceptions. Exceptions may happen when you run a program.\n",
    "Exceptions are errors that happens during execution of the program. Python won't tell you about errors like syntax errors \n",
    "(grammar faults), instead it will abrupty stops.\n",
    "\n",
    "   * TRy :\n",
    "        The code with the exceptions(s) to catch. If an exception is raised, it jumps straight into the except blocks\n",
    "   * Except:\n",
    "        This code is only executed if an Exceptions occured in the try block. The \n",
    "        except block is required with a try block, even if it contains only the pass statements."
   ]
  }
 ],
 "metadata": {
  "kernelspec": {
   "display_name": "Python 3 (ipykernel)",
   "language": "python",
   "name": "python3"
  },
  "language_info": {
   "codemirror_mode": {
    "name": "ipython",
    "version": 3
   },
   "file_extension": ".py",
   "mimetype": "text/x-python",
   "name": "python",
   "nbconvert_exporter": "python",
   "pygments_lexer": "ipython3",
   "version": "3.9.12"
  }
 },
 "nbformat": 4,
 "nbformat_minor": 5
}
