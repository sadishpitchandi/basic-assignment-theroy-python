{
 "cells": [
  {
   "cell_type": "code",
   "execution_count": null,
   "id": "3780126c",
   "metadata": {},
   "outputs": [],
   "source": [
    "1. Create an assert statement that throws an AssertionError if the variable spam is a negative interger?"
   ]
  },
  {
   "cell_type": "code",
   "execution_count": 6,
   "id": "c08c4e67",
   "metadata": {},
   "outputs": [
    {
     "ename": "AssertionError",
     "evalue": "spam should be greater than 0",
     "output_type": "error",
     "traceback": [
      "\u001b[1;31m---------------------------------------------------------------------------\u001b[0m",
      "\u001b[1;31mAssertionError\u001b[0m                            Traceback (most recent call last)",
      "Input \u001b[1;32mIn [6]\u001b[0m, in \u001b[0;36m<cell line: 2>\u001b[1;34m()\u001b[0m\n\u001b[0;32m      1\u001b[0m spam\u001b[38;5;241m=\u001b[39m \u001b[38;5;241m-\u001b[39m\u001b[38;5;241m1\u001b[39m\n\u001b[1;32m----> 2\u001b[0m \u001b[38;5;28;01massert\u001b[39;00m spam \u001b[38;5;241m>\u001b[39m \u001b[38;5;241m0\u001b[39m, \u001b[38;5;124m\"\u001b[39m\u001b[38;5;124mspam should be greater than 0\u001b[39m\u001b[38;5;124m\"\u001b[39m\n",
      "\u001b[1;31mAssertionError\u001b[0m: spam should be greater than 0"
     ]
    }
   ],
   "source": [
    "spam= -1\n",
    "assert spam > 0, \"spam should be greater than 0\""
   ]
  },
  {
   "cell_type": "code",
   "execution_count": null,
   "id": "1d110efb",
   "metadata": {},
   "outputs": [],
   "source": [
    "2. Write an assert statement that triggers an Assertion Error if the variables eggs and bacon contain strings that are the\n",
    "   same as each others, even if their cases are different (that is, 'hello' and'hello' are considered the same, and'goodbye and 'GOOODBYE' are also considered the same.?"
   ]
  },
  {
   "cell_type": "code",
   "execution_count": 10,
   "id": "adbdc295",
   "metadata": {},
   "outputs": [
    {
     "ename": "AssertionError",
     "evalue": " there eggs and bacon variables are.",
     "output_type": "error",
     "traceback": [
      "\u001b[1;31m---------------------------------------------------------------------------\u001b[0m",
      "\u001b[1;31mAssertionError\u001b[0m                            Traceback (most recent call last)",
      "Input \u001b[1;32mIn [10]\u001b[0m, in \u001b[0;36m<cell line: 3>\u001b[1;34m()\u001b[0m\n\u001b[0;32m      1\u001b[0m eggs\u001b[38;5;241m=\u001b[39m\u001b[38;5;124m'\u001b[39m\u001b[38;5;124mhello\u001b[39m\u001b[38;5;124m'\u001b[39m\n\u001b[0;32m      2\u001b[0m bacon\u001b[38;5;241m=\u001b[39m\u001b[38;5;124m'\u001b[39m\u001b[38;5;124mhello\u001b[39m\u001b[38;5;124m'\u001b[39m\n\u001b[1;32m----> 3\u001b[0m \u001b[38;5;28;01massert\u001b[39;00m eggs\u001b[38;5;241m.\u001b[39mlower() \u001b[38;5;241m!=\u001b[39m bacon\u001b[38;5;241m.\u001b[39mlower(), \u001b[38;5;124m'\u001b[39m\u001b[38;5;124m there eggs and bacon variables are.\u001b[39m\u001b[38;5;124m'\u001b[39m\n\u001b[0;32m      6\u001b[0m eggs\u001b[38;5;241m=\u001b[39m\u001b[38;5;124m'\u001b[39m\u001b[38;5;124mgoodbye\u001b[39m\u001b[38;5;124m'\u001b[39m\n\u001b[0;32m      7\u001b[0m bacon\u001b[38;5;241m=\u001b[39m\u001b[38;5;124m'\u001b[39m\u001b[38;5;124mgoodbye\u001b[39m\u001b[38;5;124m'\u001b[39m\n",
      "\u001b[1;31mAssertionError\u001b[0m:  there eggs and bacon variables are."
     ]
    }
   ],
   "source": [
    "eggs='hello'\n",
    "bacon='hello'\n",
    "assert eggs.lower() != bacon.lower(), ' there eggs and bacon variables are.'\n",
    "\n",
    "\n",
    "eggs='goodbye'\n",
    "bacon='goodbye'\n",
    "assert eggs.lower() != bacon.lower(), 'the eggs and bacon varibles are'"
   ]
  },
  {
   "cell_type": "code",
   "execution_count": null,
   "id": "0673b4fe",
   "metadata": {},
   "outputs": [],
   "source": [
    "3. Create  an assert statement that throws an Assertion error every time."
   ]
  },
  {
   "cell_type": "code",
   "execution_count": 11,
   "id": "21e34a01",
   "metadata": {},
   "outputs": [
    {
     "ename": "AssertionError",
     "evalue": " This  asseratioon always triggeers",
     "output_type": "error",
     "traceback": [
      "\u001b[1;31m---------------------------------------------------------------------------\u001b[0m",
      "\u001b[1;31mAssertionError\u001b[0m                            Traceback (most recent call last)",
      "Input \u001b[1;32mIn [11]\u001b[0m, in \u001b[0;36m<cell line: 1>\u001b[1;34m()\u001b[0m\n\u001b[1;32m----> 1\u001b[0m \u001b[38;5;28;01massert\u001b[39;00m \u001b[38;5;28;01mFalse\u001b[39;00m, \u001b[38;5;124m'\u001b[39m\u001b[38;5;124m This  asseratioon always triggeers\u001b[39m\u001b[38;5;124m'\u001b[39m\n",
      "\u001b[1;31mAssertionError\u001b[0m:  This  asseratioon always triggeers"
     ]
    }
   ],
   "source": [
    "assert False, ' This  asseratioon always triggeers'"
   ]
  },
  {
   "cell_type": "code",
   "execution_count": null,
   "id": "ce43c9d7",
   "metadata": {},
   "outputs": [],
   "source": [
    "4. What are the two lines that must be present  in yours software in order to call logging.debug?"
   ]
  },
  {
   "cell_type": "code",
   "execution_count": 12,
   "id": "011aba02",
   "metadata": {},
   "outputs": [
    {
     "name": "stderr",
     "output_type": "stream",
     "text": [
      "2022-08-05 19:31:12,391 -DEBUG - sample degub messages\n"
     ]
    }
   ],
   "source": [
    "import logging\n",
    "logging.basicConfig(level=logging.DEBUG, format='%(asctime)s -%(levelname)s - %(message)s')\n",
    "\n",
    "logging.debug(\"sample degub messages\")"
   ]
  },
  {
   "cell_type": "code",
   "execution_count": null,
   "id": "e615f251",
   "metadata": {},
   "outputs": [],
   "source": [
    "5.  What are the two lines that your program must have in order to have logging.debug() send a logging message to a file named\n",
    "   program Log.txt?"
   ]
  },
  {
   "cell_type": "code",
   "execution_count": 13,
   "id": "6f7b3563",
   "metadata": {},
   "outputs": [
    {
     "name": "stderr",
     "output_type": "stream",
     "text": [
      "2022-08-05 19:34:52,762 -DEBUG - sample messages logged to file programlog.txt\n"
     ]
    }
   ],
   "source": [
    "import logging\n",
    "logging.basicConfig(filename='programLog.txt',level=logging.DEBUG, format='%(asctime)s -%(levelname)s - %(message)s')\n",
    "logging.debug(\"sample messages logged to file programlog.txt\")"
   ]
  },
  {
   "cell_type": "code",
   "execution_count": null,
   "id": "0a94556d",
   "metadata": {},
   "outputs": [],
   "source": [
    "6. What are the five levels of logging?"
   ]
  },
  {
   "cell_type": "code",
   "execution_count": null,
   "id": "49fb4130",
   "metadata": {},
   "outputs": [],
   "source": [
    "DEBUG, INFO, WARNING AND ERROR AND CRITICAL"
   ]
  },
  {
   "cell_type": "code",
   "execution_count": null,
   "id": "b696395a",
   "metadata": {},
   "outputs": [],
   "source": [
    "7. wHAT line of code would you add to your software to disbale all logging messages?"
   ]
  },
  {
   "cell_type": "code",
   "execution_count": null,
   "id": "7de6efc2",
   "metadata": {},
   "outputs": [],
   "source": [
    "logging.disable(logging.CRITICAL)"
   ]
  },
  {
   "cell_type": "code",
   "execution_count": null,
   "id": "d515eaba",
   "metadata": {},
   "outputs": [],
   "source": [
    "8. Why is using logging messages better than using print() to display the same message?"
   ]
  },
  {
   "cell_type": "code",
   "execution_count": null,
   "id": "fcadf920",
   "metadata": {},
   "outputs": [],
   "source": [
    "Print() messages prints all messages to console by default, and all messages printing is at one level.\n",
    "\n",
    "While with using logging messages you get options to choose the log messages levels (debug, info, error) etc., as well as the output\n",
    "location to print these messages to like the console files, etc.,\n",
    "\n",
    "You can disable logging messages without removing the logging function cells. You can seelectively disable lower_level logging message\n",
    "\n",
    "Logging messages can provide a timestamp, sources, etc., meta info for each messages."
   ]
  },
  {
   "cell_type": "code",
   "execution_count": null,
   "id": "fcfe8fc8",
   "metadata": {},
   "outputs": [],
   "source": [
    "9. What are the difference between the step Over, step in, step out buttons in the bubuggger?"
   ]
  },
  {
   "cell_type": "code",
   "execution_count": null,
   "id": "050b8a75",
   "metadata": {},
   "outputs": [],
   "source": [
    "The step us button will move the debugger into functions cells. The step over buttin will quickly exceute the function call \n",
    "without stepping into it . The step out button will quickly execute the rest the rest  of the code until the functionsit currently is in."
   ]
  },
  {
   "cell_type": "code",
   "execution_count": null,
   "id": "38704973",
   "metadata": {},
   "outputs": [],
   "source": [
    "10. After you click continue when will the debugger stop?"
   ]
  },
  {
   "cell_type": "code",
   "execution_count": null,
   "id": "20b321e5",
   "metadata": {},
   "outputs": [],
   "source": [
    "After  you click contuite the ebugger will stop when it has reached the end of the program or a line with a breakpoint"
   ]
  },
  {
   "cell_type": "code",
   "execution_count": null,
   "id": "98f006f6",
   "metadata": {},
   "outputs": [],
   "source": [
    "11. What is the concept of a breakpoint?"
   ]
  },
  {
   "cell_type": "code",
   "execution_count": null,
   "id": "658babda",
   "metadata": {},
   "outputs": [],
   "source": [
    " A breakpoints is a setting on a line of code that causes the debugger to pause the debugger to pause when the program execution reactons the line."
   ]
  }
 ],
 "metadata": {
  "kernelspec": {
   "display_name": "Python 3 (ipykernel)",
   "language": "python",
   "name": "python3"
  },
  "language_info": {
   "codemirror_mode": {
    "name": "ipython",
    "version": 3
   },
   "file_extension": ".py",
   "mimetype": "text/x-python",
   "name": "python",
   "nbconvert_exporter": "python",
   "pygments_lexer": "ipython3",
   "version": "3.9.12"
  }
 },
 "nbformat": 4,
 "nbformat_minor": 5
}
