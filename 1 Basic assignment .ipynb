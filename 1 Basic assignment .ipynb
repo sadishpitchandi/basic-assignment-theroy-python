{
 "cells": [
  {
   "cell_type": "markdown",
   "id": "f1850105",
   "metadata": {},
   "source": [
    "1. In the below elements which of them are values or an expression ? |\n",
    "     EG: values of be interger or string and expression will be mathematical operations."
   ]
  },
  {
   "cell_type": "code",
   "execution_count": null,
   "id": "c8c5fbab",
   "metadata": {},
   "outputs": [],
   "source": [
    "* Expression\n",
    "\"hello\" Value\n",
    "-87.9, 6  Value \n",
    "-,/,+  Expression \n"
   ]
  },
  {
   "cell_type": "raw",
   "id": "066f249f",
   "metadata": {},
   "source": [
    "2. What is the difference between String and Variable ?\n"
   ]
  },
  {
   "cell_type": "markdown",
   "id": "fa941042",
   "metadata": {},
   "source": [
    "Variable is a reserved memory location to store values. Every values in python has a data types. String  is one of the datatypes in python to store squences of characters "
   ]
  },
  {
   "cell_type": "markdown",
   "id": "729193de",
   "metadata": {},
   "source": [
    "3. Describe three different data types"
   ]
  },
  {
   "cell_type": "code",
   "execution_count": null,
   "id": "e545639c",
   "metadata": {},
   "outputs": [],
   "source": [
    "Str = String data types is used to store a squences of characters. EG = Strings includes : \"sadish\" 0r \"123445\" or \"{\"key\",\"values\"}\"\n",
    "Int = Int datatypes is used to store interegers in pythons. EG = Intergers includes -1,0,100.\n",
    "BOOL = bool datatypes is used to store Boolean types in python, bool types in python are represented has TRUE OR FALSE."
   ]
  },
  {
   "cell_type": "markdown",
   "id": "04fc6c2c",
   "metadata": {},
   "source": [
    "4. What is an expression made up of  ? What do all expression do?"
   ]
  },
  {
   "cell_type": "code",
   "execution_count": null,
   "id": "086e78b7",
   "metadata": {},
   "outputs": [],
   "source": [
    "An expression is made up of Operators and Operands, Expression are interpreted to produce some otherr values\n",
    " eg:\n",
    "        a + b"
   ]
  },
  {
   "cell_type": "markdown",
   "id": "60031547",
   "metadata": {},
   "source": [
    "5. This assignment statements , like spam=10 What is the difference between an expression and a statements ?"
   ]
  },
  {
   "cell_type": "code",
   "execution_count": null,
   "id": "c640a2fb",
   "metadata": {},
   "outputs": [],
   "source": [
    "A Statements performs some action, this in case it is assigning the variable SPAM with values 10. An expression evalutes to some values\n",
    "\n",
    "An expression can be part of an expression. Statements typically don't have a type but all expressions have types.\n",
    " EG:\n",
    "        \"hello\", 5+7\n"
   ]
  },
  {
   "cell_type": "markdown",
   "id": "76031370",
   "metadata": {},
   "source": [
    "6. After Running the following code, What does the variable bacon contain ?\n"
   ]
  },
  {
   "cell_type": "code",
   "execution_count": null,
   "id": "b600021c",
   "metadata": {},
   "outputs": [],
   "source": [
    "Bacon is a python module for making 2D games that run on windows and OS X. Its provides function for drawing graphic, Playing sounds, and reciving input from the mouse, Keyboard and game controllers.\n",
    "bacon = 22\n",
    "bacon + 1\n",
    "bacon will contain 22, because the last line is a expression but not a statement, hence the value of bacon is unchanged."
   ]
  },
  {
   "cell_type": "markdown",
   "id": "35902e86",
   "metadata": {},
   "source": [
    "7. Why is eggs a valid variable name while 100nis invalid ?"
   ]
  },
  {
   "cell_type": "code",
   "execution_count": null,
   "id": "53541a0f",
   "metadata": {},
   "outputs": [],
   "source": [
    "~In Python the variable names should start with a-z or A-Z or Underscore(_).\n",
    "~No other special characters are allowed other than Underscore.\n",
    "~Also Variable names can have numbers but not at the beginning. Hence 100 is invaild variable names.\n",
    "~Also any variable name in python should not be a python keywords"
   ]
  },
  {
   "cell_type": "markdown",
   "id": "674a9e89",
   "metadata": {},
   "source": [
    "8. What should the values of the following two terms be ?\n"
   ]
  },
  {
   "cell_type": "code",
   "execution_count": null,
   "id": "a5bce229",
   "metadata": {},
   "outputs": [],
   "source": [
    "'spam'+'spamspam'=spamspamspam\n",
    "'spam'*3 = spamspamspam"
   ]
  },
  {
   "cell_type": "markdown",
   "id": "c6e916a4",
   "metadata": {},
   "source": [
    "9. What three functions can be used to get the interger, floating-point numbers, or string version of a value ?"
   ]
  },
  {
   "cell_type": "code",
   "execution_count": null,
   "id": "494a860d",
   "metadata": {},
   "outputs": [],
   "source": [
    "This can be done by explicit the type casting, assuming the variable name is abc, the three finctions will be \n",
    "int(abc),float(10),str(10)"
   ]
  },
  {
   "cell_type": "markdown",
   "id": "b600dbf9",
   "metadata": {},
   "source": [
    "10. Why does this expression cause an error ? How can you fix it ?"
   ]
  },
  {
   "cell_type": "markdown",
   "id": "c9dd683a",
   "metadata": {},
   "source": [
    "'i have eaten'+99+'burritos'"
   ]
  },
  {
   "cell_type": "code",
   "execution_count": null,
   "id": "c8d4536d",
   "metadata": {},
   "outputs": [],
   "source": [
    "You cannot add intergers to strings, here first and last operands are strings\n",
    "Corrected expression will be 'i have eaten'+99+'burritos'"
   ]
  },
  {
   "cell_type": "code",
   "execution_count": null,
   "id": "d48442f7",
   "metadata": {},
   "outputs": [],
   "source": []
  },
  {
   "cell_type": "code",
   "execution_count": null,
   "id": "04b746a4",
   "metadata": {},
   "outputs": [],
   "source": []
  },
  {
   "cell_type": "code",
   "execution_count": null,
   "id": "7fc9c6f8",
   "metadata": {},
   "outputs": [],
   "source": []
  }
 ],
 "metadata": {
  "kernelspec": {
   "display_name": "Python 3 (ipykernel)",
   "language": "python",
   "name": "python3"
  },
  "language_info": {
   "codemirror_mode": {
    "name": "ipython",
    "version": 3
   },
   "file_extension": ".py",
   "mimetype": "text/x-python",
   "name": "python",
   "nbconvert_exporter": "python",
   "pygments_lexer": "ipython3",
   "version": "3.9.12"
  }
 },
 "nbformat": 4,
 "nbformat_minor": 5
}
