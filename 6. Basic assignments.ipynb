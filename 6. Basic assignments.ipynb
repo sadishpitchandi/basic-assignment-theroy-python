{
 "cells": [
  {
   "cell_type": "markdown",
   "id": "d5394773",
   "metadata": {},
   "source": [
    "1. What are  escape characters and how do you use them?"
   ]
  },
  {
   "cell_type": "code",
   "execution_count": null,
   "id": "4ff5bdfa",
   "metadata": {},
   "outputs": [],
   "source": []
  },
  {
   "cell_type": "code",
   "execution_count": 1,
   "id": "8b2f26bc",
   "metadata": {},
   "outputs": [
    {
     "name": "stdout",
     "output_type": "stream",
     "text": [
      "Object `for` not found.\n"
     ]
    }
   ],
   "source": [
    "2. What do the escape chacracters n and t stand for?"
   ]
  },
  {
   "cell_type": "code",
   "execution_count": null,
   "id": "3996b842",
   "metadata": {},
   "outputs": [],
   "source": [
    "\"\\t\" is for tab space, \"\\n\" for a new line."
   ]
  },
  {
   "cell_type": "code",
   "execution_count": null,
   "id": "7e5de5ba",
   "metadata": {},
   "outputs": [],
   "source": [
    "3. What is the way to include backslash characters in a strings?\n"
   ]
  },
  {
   "cell_type": "code",
   "execution_count": null,
   "id": "2755e618",
   "metadata": {},
   "outputs": [],
   "source": [
    "you need to append backslash with another backslash to include the backslash in your strings \n",
    "\n",
    "eg:\n",
    "    print(\"it's backslash\\\\ in a sentence\")"
   ]
  },
  {
   "cell_type": "code",
   "execution_count": null,
   "id": "a96192bd",
   "metadata": {},
   "outputs": [],
   "source": [
    "4.  The string \"howI's moving castle \" is a correct value. Why isn't the string quote characters in the word howl's not escaped a problem?"
   ]
  },
  {
   "cell_type": "code",
   "execution_count": null,
   "id": "8add7154",
   "metadata": {},
   "outputs": [],
   "source": [
    "The single quote in Howl's is fine because here we are suing double quotes to mark the begining and end of the string\n",
    "Lilke wise we can use double quotes inside a string with single quotes."
   ]
  },
  {
   "cell_type": "code",
   "execution_count": null,
   "id": "0c9548d9",
   "metadata": {},
   "outputs": [],
   "source": [
    "5. How do you write a string of  newlines if you don't want to use the n characters\n"
   ]
  },
  {
   "cell_type": "code",
   "execution_count": null,
   "id": "f1c5a88c",
   "metadata": {},
   "outputs": [],
   "source": [
    "To wrote a string  of new lines without using the new line character we can use pythons mutli line strings which are placed inside triple quotes\n",
    "Eg:\n",
    "    String_mutlilines= \"\"\" this is my \n",
    "                           multi line \n",
    "                           string by\n",
    "                           name string_mutlines\"\"\""
   ]
  },
  {
   "cell_type": "code",
   "execution_count": 1,
   "id": "45c7b560",
   "metadata": {},
   "outputs": [
    {
     "name": "stdout",
     "output_type": "stream",
     "text": [
      "Object `expression` not found.\n"
     ]
    }
   ],
   "source": [
    "6. What are the vales of the given expression?"
   ]
  },
  {
   "cell_type": "code",
   "execution_count": null,
   "id": "8267107e",
   "metadata": {},
   "outputs": [],
   "source": []
  },
  {
   "cell_type": "code",
   "execution_count": null,
   "id": "5e55dc03",
   "metadata": {},
   "outputs": [],
   "source": [
    "7."
   ]
  }
 ],
 "metadata": {
  "kernelspec": {
   "display_name": "Python 3 (ipykernel)",
   "language": "python",
   "name": "python3"
  },
  "language_info": {
   "codemirror_mode": {
    "name": "ipython",
    "version": 3
   },
   "file_extension": ".py",
   "mimetype": "text/x-python",
   "name": "python",
   "nbconvert_exporter": "python",
   "pygments_lexer": "ipython3",
   "version": "3.9.12"
  }
 },
 "nbformat": 4,
 "nbformat_minor": 5
}
