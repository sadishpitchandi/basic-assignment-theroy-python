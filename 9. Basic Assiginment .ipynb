{
 "cells": [
  {
   "cell_type": "code",
   "execution_count": null,
   "id": "9827959f",
   "metadata": {},
   "outputs": [],
   "source": [
    "1. To What does a relative path refer?"
   ]
  },
  {
   "cell_type": "code",
   "execution_count": null,
   "id": "8172d4ba",
   "metadata": {},
   "outputs": [],
   "source": [
    "Relative path are relative to the current working directory. When using relative path, we need to provide the absoulte/complete\n",
    "path of the file from the root directory, Instead we can give the partial/relative path to indicate the file location."
   ]
  },
  {
   "cell_type": "code",
   "execution_count": null,
   "id": "9158754d",
   "metadata": {},
   "outputs": [],
   "source": [
    "2. Wahat does an absolute path start with ypur operating system?"
   ]
  },
  {
   "cell_type": "code",
   "execution_count": null,
   "id": "fb882d36",
   "metadata": {},
   "outputs": [],
   "source": [
    "I am using windows operating system with single hard drive, so my absolute path starts with C:/"
   ]
  },
  {
   "cell_type": "code",
   "execution_count": null,
   "id": "6930b29f",
   "metadata": {},
   "outputs": [],
   "source": [
    "3. What do the function os.getcwd() and os.chdir() for?"
   ]
  },
  {
   "cell_type": "code",
   "execution_count": null,
   "id": "8cb8ee02",
   "metadata": {},
   "outputs": [],
   "source": [
    "os.getcwd() returns you the current working directory path\n",
    "os.chdir() is used to change the  current working directory while running the program"
   ]
  },
  {
   "cell_type": "code",
   "execution_count": null,
   "id": "df8b2799",
   "metadata": {},
   "outputs": [],
   "source": [
    "4.What are the . and .. folders?"
   ]
  },
  {
   "cell_type": "code",
   "execution_count": null,
   "id": "c32be4bf",
   "metadata": {},
   "outputs": [],
   "source": [
    ". single dot means the current folder\n",
    ".. double dot means the parent folder"
   ]
  },
  {
   "cell_type": "code",
   "execution_count": null,
   "id": "de3bcce2",
   "metadata": {},
   "outputs": [],
   "source": [
    "5. In C:\\bacon\\eggs\\spam.txt, which is part is the dir name, and which part is the base name?"
   ]
  },
  {
   "cell_type": "code",
   "execution_count": null,
   "id": "fb5354b6",
   "metadata": {},
   "outputs": [],
   "source": [
    "c:\\bacon\\eggs is the dir name and spam.txt is the base name."
   ]
  },
  {
   "cell_type": "code",
   "execution_count": null,
   "id": "0cd3c4bc",
   "metadata": {},
   "outputs": [],
   "source": [
    "6. What are the three \"mode\" aruguments that can be passed to the open() function?"
   ]
  },
  {
   "cell_type": "code",
   "execution_count": null,
   "id": "234d01f2",
   "metadata": {},
   "outputs": [],
   "source": [
    "The three mode aruguments that can be passed to the open() function:\n",
    "    'r' for read mode\n",
    "    'w' for write mode\n",
    "    'a'for append mode."
   ]
  },
  {
   "cell_type": "code",
   "execution_count": null,
   "id": "f17b039c",
   "metadata": {},
   "outputs": [],
   "source": [
    "7. What happen if an existing the file is opened in write mode?"
   ]
  },
  {
   "cell_type": "code",
   "execution_count": null,
   "id": "6854f2fd",
   "metadata": {},
   "outputs": [],
   "source": [
    "If an existing file is opened in write mode then all the existing content from the file is erased and the new content will be added.\n",
    "This is might result in loss of data If you wanted to have both existing and new data to existing in the file."
   ]
  },
  {
   "cell_type": "code",
   "execution_count": null,
   "id": "2ad69f7e",
   "metadata": {},
   "outputs": [],
   "source": [
    "8. How do you tell the difference between read() and readlines()?"
   ]
  },
  {
   "cell_type": "code",
   "execution_count": null,
   "id": "61149ebb",
   "metadata": {},
   "outputs": [],
   "source": [
    "The READ() method returns the file's entire contents as a single string value.\n",
    "The readlines() method returns a lists of strings where each strings where each string is a line from the file contexts"
   ]
  },
  {
   "cell_type": "code",
   "execution_count": null,
   "id": "3960db7e",
   "metadata": {},
   "outputs": [],
   "source": [
    "9. What data structure does a shelf value resemble?"
   ]
  },
  {
   "cell_type": "code",
   "execution_count": null,
   "id": "9e0138cc",
   "metadata": {},
   "outputs": [],
   "source": [
    " A shelf values resembles a dict values:\n",
    "        it has keys and value, along with keys() and values() methids that work similarly to the dict methids of the same names."
   ]
  },
  {
   "cell_type": "code",
   "execution_count": null,
   "id": "a3aeecae",
   "metadata": {},
   "outputs": [],
   "source": []
  }
 ],
 "metadata": {
  "kernelspec": {
   "display_name": "Python 3 (ipykernel)",
   "language": "python",
   "name": "python3"
  },
  "language_info": {
   "codemirror_mode": {
    "name": "ipython",
    "version": 3
   },
   "file_extension": ".py",
   "mimetype": "text/x-python",
   "name": "python",
   "nbconvert_exporter": "python",
   "pygments_lexer": "ipython3",
   "version": "3.9.12"
  }
 },
 "nbformat": 4,
 "nbformat_minor": 5
}
