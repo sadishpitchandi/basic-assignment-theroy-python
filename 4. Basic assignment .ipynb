{
 "cells": [
  {
   "cell_type": "code",
   "execution_count": null,
   "id": "f08b4e5b",
   "metadata": {},
   "outputs": [],
   "source": []
  },
  {
   "cell_type": "markdown",
   "id": "dd0295b6",
   "metadata": {},
   "source": []
  },
  {
   "cell_type": "markdown",
   "id": "2d2dd85b",
   "metadata": {},
   "source": [
    "1. What  exactly is []?"
   ]
  },
  {
   "cell_type": "code",
   "execution_count": null,
   "id": "84938925",
   "metadata": {},
   "outputs": [],
   "source": [
    "[] is an empty list in python "
   ]
  },
  {
   "cell_type": "code",
   "execution_count": null,
   "id": "0662dbd3",
   "metadata": {},
   "outputs": [],
   "source": [
    "2.In a list of values stored in a varible callled spam. How would you assign the value 'hello' as the third values?"
   ]
  },
  {
   "cell_type": "code",
   "execution_count": null,
   "id": "893e2215",
   "metadata": {},
   "outputs": [],
   "source": [
    "spam.insert(2, 'hello')  # as in python lists are zero based indexes, 2nd index indicates third values."
   ]
  },
  {
   "cell_type": "code",
   "execution_count": null,
   "id": "76df71cd",
   "metadata": {},
   "outputs": [],
   "source": [
    "Let's pretend the spam includes the list ['a','b','c','d'] for the next three queries."
   ]
  },
  {
   "cell_type": "markdown",
   "id": "4b3b1fdf",
   "metadata": {},
   "source": [
    "3. What is the values of spam [int(int('3'*2)/11)]?"
   ]
  },
  {
   "cell_type": "code",
   "execution_count": null,
   "id": "d4ce937b",
   "metadata": {},
   "outputs": [],
   "source": [
    "d"
   ]
  },
  {
   "cell_type": "code",
   "execution_count": null,
   "id": "9542a6bf",
   "metadata": {},
   "outputs": [],
   "source": [
    "4. what is the value of spam[-1]?"
   ]
  },
  {
   "cell_type": "code",
   "execution_count": null,
   "id": "60c1335a",
   "metadata": {},
   "outputs": [],
   "source": [
    "'d'"
   ]
  },
  {
   "cell_type": "code",
   "execution_count": null,
   "id": "ae0283fb",
   "metadata": {},
   "outputs": [],
   "source": [
    "5. What is the values of spam[:2]"
   ]
  },
  {
   "cell_type": "code",
   "execution_count": null,
   "id": "3ed603d0",
   "metadata": {},
   "outputs": [],
   "source": [
    "[a:b]"
   ]
  },
  {
   "cell_type": "markdown",
   "id": "396ed5d4",
   "metadata": {},
   "source": [
    "Lets pretend bacon has the list [3.14,'cat',11,'cat',True] for the next three questions."
   ]
  },
  {
   "cell_type": "code",
   "execution_count": null,
   "id": "b544bee5",
   "metadata": {},
   "outputs": [],
   "source": [
    "I am assuming there is no syntax errors and bacon= [3.14,'cat',11,'cat',True] "
   ]
  },
  {
   "cell_type": "markdown",
   "id": "b08fed84",
   "metadata": {},
   "source": [
    "6. What is the values of bacon.index('cat')?"
   ]
  },
  {
   "cell_type": "code",
   "execution_count": null,
   "id": "e0c09285",
   "metadata": {},
   "outputs": [],
   "source": [
    "1"
   ]
  },
  {
   "cell_type": "markdown",
   "id": "e9f63bcb",
   "metadata": {},
   "source": [
    "7. How does bacon,append(99) change the look of the list value in bacon ?"
   ]
  },
  {
   "cell_type": "code",
   "execution_count": null,
   "id": "6dedefe9",
   "metadata": {},
   "outputs": [],
   "source": [
    "['3.14','cat',11,'cat',True,99]"
   ]
  },
  {
   "cell_type": "markdown",
   "id": "04163223",
   "metadata": {},
   "source": [
    "8. How does bacon.remove('cat') cahnge the look of the list in bacon?"
   ]
  },
  {
   "cell_type": "code",
   "execution_count": null,
   "id": "7a31f803",
   "metadata": {},
   "outputs": [],
   "source": [
    "[3.14,11,'cat',True]"
   ]
  },
  {
   "cell_type": "markdown",
   "id": "a3445454",
   "metadata": {},
   "source": [
    "9. What are the list concatenation and list replication operators?"
   ]
  },
  {
   "cell_type": "code",
   "execution_count": null,
   "id": "3eca340e",
   "metadata": {},
   "outputs": [],
   "source": [
    "List concatenation operators is '+' while list replication operator is '*'"
   ]
  },
  {
   "cell_type": "markdown",
   "id": "a11affe6",
   "metadata": {},
   "source": [
    "10.What is difference between the list methods append() and insert ()?"
   ]
  },
  {
   "cell_type": "code",
   "execution_count": null,
   "id": "d44b933b",
   "metadata": {},
   "outputs": [],
   "source": [
    "Append method appends the given object to the end of the list always.Insert method accepts two arugument,\n",
    "index at which the element needs to be inserted and the object to insert.\n",
    "Insert needs the user to pass the location at which they want to insert the elements into the list,\n",
    "while appends does not provide a choice."
   ]
  },
  {
   "cell_type": "markdown",
   "id": "2a69d553",
   "metadata": {},
   "source": [
    "11.  What are the two methods for moving items from a list?"
   ]
  },
  {
   "cell_type": "code",
   "execution_count": null,
   "id": "005e044e",
   "metadata": {},
   "outputs": [],
   "source": [
    "Two methods used for removing items from alist are:\n",
    "    * List.remove(object)-> Removes the first occurance of the given object from the list.\n",
    "    *List.pop(index=-1)-> Removes and returns item at the index (defaults is -1 the last elements)"
   ]
  },
  {
   "cell_type": "markdown",
   "id": "24d9cde5",
   "metadata": {},
   "source": [
    "12. Describe how list values and string values  are identical?"
   ]
  },
  {
   "cell_type": "code",
   "execution_count": null,
   "id": "b1f30c2d",
   "metadata": {},
   "outputs": [],
   "source": [
    "While list is a collections of values in python, String  is a collection of characters.\n",
    "Both list and strings are iterable in python and a for loop can be used around a list of string objects to iterate through each\n",
    "elements in the list/string"
   ]
  },
  {
   "cell_type": "markdown",
   "id": "31ef49c6",
   "metadata": {},
   "source": [
    "13.Whats the difference between tuples and list ?"
   ]
  },
  {
   "cell_type": "markdown",
   "id": "7fe931f0",
   "metadata": {},
   "source": [
    "Tuples are immutable as list in python are mutable. So once created the items  inside  a tuple cannot be changed."
   ]
  },
  {
   "cell_type": "markdown",
   "id": "c8303f90",
   "metadata": {},
   "source": [
    "14. How do ypou type a value that only contains the intergers 42?"
   ]
  },
  {
   "cell_type": "code",
   "execution_count": null,
   "id": "30801081",
   "metadata": {},
   "outputs": [],
   "source": [
    "typle([42])"
   ]
  },
  {
   "cell_type": "markdown",
   "id": "e27f566f",
   "metadata": {},
   "source": [
    "15.How do you get a list values tuple form ? How do  you tyuples values list form?"
   ]
  },
  {
   "cell_type": "code",
   "execution_count": 3,
   "id": "99d8d936",
   "metadata": {},
   "outputs": [
    {
     "data": {
      "text/plain": [
       "list"
      ]
     },
     "execution_count": 3,
     "metadata": {},
     "output_type": "execute_result"
    }
   ],
   "source": [
    "b= tuple([42,3,5])\n",
    "type(b)\n",
    "c=list(b)\n",
    "type(c)"
   ]
  },
  {
   "cell_type": "markdown",
   "id": "e666099f",
   "metadata": {},
   "source": [
    "16. Varible that \"contain\" list values are not necessarily list themselves. Instead what do they contain?"
   ]
  },
  {
   "cell_type": "code",
   "execution_count": null,
   "id": "e4789138",
   "metadata": {},
   "outputs": [],
   "source": [
    "They contain references to the list values."
   ]
  },
  {
   "cell_type": "markdown",
   "id": "6880927a",
   "metadata": {},
   "source": [
    "17. How do you distinguish between copy.copy() and code.deepcopy?"
   ]
  },
  {
   "cell_type": "code",
   "execution_count": null,
   "id": "8de1cfed",
   "metadata": {},
   "outputs": [],
   "source": [
    "THe copy.copy() function will  do a shallow copy of list\n",
    "The code.deepcopy() function will do a deep copy of alist only copy deepcopy() will duplicate any list inside the list."
   ]
  },
  {
   "cell_type": "code",
   "execution_count": null,
   "id": "0e887b64",
   "metadata": {},
   "outputs": [],
   "source": []
  },
  {
   "cell_type": "code",
   "execution_count": null,
   "id": "85dde77d",
   "metadata": {},
   "outputs": [],
   "source": []
  }
 ],
 "metadata": {
  "kernelspec": {
   "display_name": "Python 3 (ipykernel)",
   "language": "python",
   "name": "python3"
  },
  "language_info": {
   "codemirror_mode": {
    "name": "ipython",
    "version": 3
   },
   "file_extension": ".py",
   "mimetype": "text/x-python",
   "name": "python",
   "nbconvert_exporter": "python",
   "pygments_lexer": "ipython3",
   "version": "3.9.12"
  }
 },
 "nbformat": 4,
 "nbformat_minor": 5
}
