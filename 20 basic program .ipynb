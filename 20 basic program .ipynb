{
 "cells": [
  {
   "cell_type": "markdown",
   "id": "232606ca",
   "metadata": {},
   "source": [
    "1. Set the variable test1 to the\n",
    "string 'This is a test of the emergency text system,' and save test1 to a file named test.txt."
   ]
  },
  {
   "cell_type": "code",
   "execution_count": 5,
   "id": "3f853acf",
   "metadata": {},
   "outputs": [],
   "source": [
    "test1='This is a test of the emergency text system,'\n",
    "with open('test.txt', 'wt') as outfile:\n",
    "    outfile.write(test1)\n",
    "    outfile.close()    "
   ]
  },
  {
   "cell_type": "markdown",
   "id": "75f8a4d7",
   "metadata": {},
   "source": [
    "2.  Read the contents of the file test.txt into the variable test2. Is there a difference between test 1 and test 2?"
   ]
  },
  {
   "cell_type": "code",
   "execution_count": 9,
   "id": "6b19ae0a",
   "metadata": {},
   "outputs": [
    {
     "data": {
      "text/plain": [
       "'This is a test of the emergency text system,'"
      ]
     },
     "execution_count": 9,
     "metadata": {},
     "output_type": "execute_result"
    }
   ],
   "source": [
    "with open('test.txt', 'rt') as infile:\n",
    "    test2 = infile.read()\n",
    "test2"
   ]
  },
  {
   "cell_type": "markdown",
   "id": "ed681357",
   "metadata": {},
   "source": [
    "3\n",
    "Create a CSV file called books.csv by using these lines:\n",
    "\n",
    "title,author,year\n",
    "\n",
    "The Weirdstone of Brisingamen,Alan Garner,1960\n",
    "\n",
    "Perdido Street Station,China Miéville,2000\n",
    "\n",
    "Thud!,Terry Pratchett,2005\n",
    "\n",
    "The Spellman Files,Lisa Lutz,2007\n",
    "\n",
    "Small Gods,Terry Pratchett,1992"
   ]
  },
  {
   "cell_type": "code",
   "execution_count": 10,
   "id": "64579bac",
   "metadata": {},
   "outputs": [],
   "source": [
    "text = '''title,author,year\n",
    "The Weirdstone of Brisingamen,Alan Garner,1960\n",
    "Perdido Street Station,China Miéville,2000\n",
    "Thud!,Terry Pratchett,2005\n",
    "The Spellman Files,Lisa Lutz,2007\n",
    "Small Gods,Terry Pratchett,1992\n",
    "'''\n",
    "with open('books.csv', 'wt') as outfile:\n",
    "    outfile.write(text)"
   ]
  },
  {
   "cell_type": "code",
   "execution_count": 21,
   "id": "6c28241a",
   "metadata": {},
   "outputs": [
    {
     "data": {
      "text/plain": [
       "'title,author,year\\nThe Weirdstone of Brisingamen,Alan Garner,1960\\nPerdido Street Station,China Miéville,2000\\nThud!,Terry Pratchett,2005\\nThe Spellman Files,Lisa Lutz,2007\\nSmall Gods,Terry Pratchett,1992\\n'"
      ]
     },
     "execution_count": 21,
     "metadata": {},
     "output_type": "execute_result"
    }
   ],
   "source": [
    "with open('books.csv', 'rt') as infile:\n",
    "    test2 = infile.read()\n",
    "test2"
   ]
  },
  {
   "cell_type": "code",
   "execution_count": null,
   "id": "3afc7e8a",
   "metadata": {},
   "outputs": [],
   "source": []
  },
  {
   "cell_type": "markdown",
   "id": "465670fa",
   "metadata": {},
   "source": [
    "4.  Use the sqlite3 module to create a SQLite database called books.db, and a table called books with these fields: title (text), author (text), and year (integer)."
   ]
  },
  {
   "cell_type": "code",
   "execution_count": 20,
   "id": "5e0a2417",
   "metadata": {},
   "outputs": [
    {
     "data": {
      "text/plain": [
       "<sqlite3.Cursor at 0x2a19190b650>"
      ]
     },
     "execution_count": 20,
     "metadata": {},
     "output_type": "execute_result"
    }
   ],
   "source": [
    "import sqlite3\n",
    "db = sqlite3.connect('books.db')\n",
    "curs = db.cursor()\n",
    "curs.execute('''create table book (title text, author text, year int)''')"
   ]
  },
  {
   "cell_type": "code",
   "execution_count": 19,
   "id": "0670503e",
   "metadata": {},
   "outputs": [],
   "source": [
    "db.commit()"
   ]
  },
  {
   "cell_type": "markdown",
   "id": "824c4962",
   "metadata": {},
   "source": [
    "5.  Read books.csv and insert its data into the book table."
   ]
  },
  {
   "cell_type": "code",
   "execution_count": 22,
   "id": "9b181e44",
   "metadata": {},
   "outputs": [],
   "source": [
    "import csv\n",
    "import sqlite3\n",
    "ins_str = 'insert into book values(?, ?, ?)'\n",
    "with open('books.csv', 'rt') as infile:\n",
    "    books = csv.DictReader(infile)\n",
    "    for book in books:\n",
    "        curs.execute(ins_str, (book['title'], book['author'], book['year']))"
   ]
  },
  {
   "cell_type": "code",
   "execution_count": 23,
   "id": "b4ab2a29",
   "metadata": {},
   "outputs": [],
   "source": [
    "db.commit()"
   ]
  },
  {
   "cell_type": "markdown",
   "id": "7e85236e",
   "metadata": {},
   "source": [
    "6.  Select and print the title column from the book table in alphabetical order"
   ]
  },
  {
   "cell_type": "code",
   "execution_count": 30,
   "id": "f0b4ac7c",
   "metadata": {},
   "outputs": [
    {
     "name": "stdout",
     "output_type": "stream",
     "text": [
      "The Weirdstone of Brisingamen\n",
      "Perdido Street Station\n",
      "Thud!\n",
      "The Spellman Files\n",
      "Small Gods\n"
     ]
    }
   ],
   "source": [
    "sql = 'select title from book '\n",
    "for row in db.execute(sql):\n",
    "    print(row[0])"
   ]
  },
  {
   "cell_type": "markdown",
   "id": "efccbc29",
   "metadata": {},
   "source": [
    "7.  From the book table, select and print all columns in the order of publication."
   ]
  },
  {
   "cell_type": "code",
   "execution_count": 37,
   "id": "8ae27fe4",
   "metadata": {},
   "outputs": [
    {
     "name": "stdout",
     "output_type": "stream",
     "text": [
      "The Weirdstone of Brisingamen, Alan Garner, 1960\n",
      "Perdido Street Station, China Miéville, 2000\n",
      "Thud!, Terry Pratchett, 2005\n",
      "The Spellman Files, Lisa Lutz, 2007\n",
      "Small Gods, Terry Pratchett, 1992\n"
     ]
    }
   ],
   "source": [
    "sql = 'select * from book '\n",
    "for row in db.execute(sql):\n",
    "    print(*row, sep=', ')"
   ]
  },
  {
   "cell_type": "markdown",
   "id": "b7178b26",
   "metadata": {},
   "source": [
    "8.  Use the sqlalchemy module to connect to the sqlite3 database books.db that you just made in exercise 6"
   ]
  },
  {
   "cell_type": "code",
   "execution_count": 39,
   "id": "2b75261e",
   "metadata": {},
   "outputs": [
    {
     "name": "stdout",
     "output_type": "stream",
     "text": [
      "('The Weirdstone of Brisingamen',)\n",
      "('Perdido Street Station',)\n",
      "('Thud!',)\n",
      "('The Spellman Files',)\n",
      "('Small Gods',)\n"
     ]
    }
   ],
   "source": [
    "import sqlalchemy    \n",
    "\"\"\"  SQLAlchemy is a library that facilitates the communication between Python programs and databases. \n",
    "     Most of the times, this library is used as an Object Relational Mapper (ORM) tool that translates \n",
    "     Python classes to tables on relational databases and automatically converts function calls to SQL statements.\"\"\"\n",
    "conn = sqlalchemy.create_engine('sqlite:///books.db')\n",
    "sql = 'select title from book '\n",
    "rows = conn.execute(sql)\n",
    "for row in rows:\n",
    "    print(row)"
   ]
  },
  {
   "cell_type": "markdown",
   "id": "9cfe444d",
   "metadata": {},
   "source": [
    "9.  Install the Redis server and the Python redis library (pip install redis) on your computer. Create a Redis hash called test with the fields count (1) and name ('Fester Bestertester'). Print all the fields for test."
   ]
  },
  {
   "cell_type": "code",
   "execution_count": 40,
   "id": "9b1322a6",
   "metadata": {},
   "outputs": [
    {
     "name": "stdout",
     "output_type": "stream",
     "text": [
      "Collecting redis\n",
      "  Downloading redis-4.4.0-py3-none-any.whl (236 kB)\n",
      "Collecting async-timeout>=4.0.2\n",
      "  Downloading async_timeout-4.0.2-py3-none-any.whl (5.8 kB)\n",
      "Installing collected packages: async-timeout, redis\n",
      "  Attempting uninstall: async-timeout\n",
      "    Found existing installation: async-timeout 4.0.1\n",
      "    Uninstalling async-timeout-4.0.1:\n",
      "      Successfully uninstalled async-timeout-4.0.1\n",
      "Successfully installed async-timeout-4.0.2 redis-4.4.0\n",
      "Note: you may need to restart the kernel to use updated packages.\n"
     ]
    }
   ],
   "source": [
    "pip install redis"
   ]
  },
  {
   "cell_type": "code",
   "execution_count": null,
   "id": "70632b48",
   "metadata": {},
   "outputs": [],
   "source": [
    "import redis\n",
    "conn = redis.Redis \n",
    "conn.delete('test1')"
   ]
  },
  {
   "cell_type": "code",
   "execution_count": null,
   "id": "4e13eb0d",
   "metadata": {},
   "outputs": [],
   "source": [
    "conn.hmset('test', {'count': 1, 'name': 'Fester Bestertester'})"
   ]
  },
  {
   "cell_type": "markdown",
   "id": "60a8e64d",
   "metadata": {},
   "source": [
    "10.  Increment the count field of test and print it"
   ]
  },
  {
   "cell_type": "code",
   "execution_count": null,
   "id": "e2f47c4b",
   "metadata": {},
   "outputs": [],
   "source": [
    "conn.hincrby('test', 'count', 3)"
   ]
  },
  {
   "cell_type": "code",
   "execution_count": null,
   "id": "27ccf7e8",
   "metadata": {},
   "outputs": [],
   "source": [
    "conn.hget('test', 'count')"
   ]
  }
 ],
 "metadata": {
  "kernelspec": {
   "display_name": "Python 3 (ipykernel)",
   "language": "python",
   "name": "python3"
  },
  "language_info": {
   "codemirror_mode": {
    "name": "ipython",
    "version": 3
   },
   "file_extension": ".py",
   "mimetype": "text/x-python",
   "name": "python",
   "nbconvert_exporter": "python",
   "pygments_lexer": "ipython3",
   "version": "3.9.12"
  }
 },
 "nbformat": 4,
 "nbformat_minor": 5
}
