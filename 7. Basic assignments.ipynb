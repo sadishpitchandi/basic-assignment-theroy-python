{
 "cells": [
  {
   "cell_type": "code",
   "execution_count": null,
   "id": "464a3684",
   "metadata": {},
   "outputs": [],
   "source": [
    "1. What is the name of the feature responsible for generating Regex Objects?"
   ]
  },
  {
   "cell_type": "code",
   "execution_count": null,
   "id": "307096fb",
   "metadata": {},
   "outputs": [],
   "source": [
    "The re.complie() function returns Regex objects"
   ]
  },
  {
   "cell_type": "code",
   "execution_count": null,
   "id": "e324be60",
   "metadata": {},
   "outputs": [],
   "source": [
    "2. Why do raw strings often appear in Regex objects?"
   ]
  },
  {
   "cell_type": "code",
   "execution_count": null,
   "id": "b9a51b59",
   "metadata": {},
   "outputs": [],
   "source": [
    "Raw strings are used so that backslashes do not have to be escaped."
   ]
  },
  {
   "cell_type": "code",
   "execution_count": null,
   "id": "e30a1890",
   "metadata": {},
   "outputs": [],
   "source": [
    "3.What is the return value of the search() method?"
   ]
  },
  {
   "cell_type": "code",
   "execution_count": null,
   "id": "867e1784",
   "metadata": {},
   "outputs": [],
   "source": [
    "The search () method retuns string of the matched text."
   ]
  },
  {
   "cell_type": "code",
   "execution_count": null,
   "id": "44cb89c9",
   "metadata": {},
   "outputs": [],
   "source": [
    "4. From a match item how do you get the actucal strings that match the pattern?"
   ]
  },
  {
   "cell_type": "code",
   "execution_count": null,
   "id": "21dd5180",
   "metadata": {},
   "outputs": [],
   "source": [
    "The group() method retuns string of the matched text."
   ]
  },
  {
   "cell_type": "code",
   "execution_count": null,
   "id": "6297d93e",
   "metadata": {},
   "outputs": [],
   "source": [
    "5. In the regex which created from the r'(\\d\\d\\d)-(\\d\\d\\d-\\d\\d\\d\\d)' what deoes group zero cover? group2? group1?"
   ]
  },
  {
   "cell_type": "code",
   "execution_count": null,
   "id": "fa100dc2",
   "metadata": {},
   "outputs": [],
   "source": [
    "Group 0 is the entire match, group 1 covers the first set of parentheses, and group 2 covers the second set of parameters."
   ]
  },
  {
   "cell_type": "code",
   "execution_count": null,
   "id": "a75be04e",
   "metadata": {},
   "outputs": [],
   "source": [
    "6. In standard expression syntax, parentheses and intervals have distinct meanings. How can you tell a regex that you want it to fit real parentheses and periods?"
   ]
  },
  {
   "cell_type": "code",
   "execution_count": null,
   "id": "cc1f3ba9",
   "metadata": {},
   "outputs": [],
   "source": [
    "Period and parentheses can be escaped with a backslash:.,(,and)."
   ]
  },
  {
   "cell_type": "code",
   "execution_count": null,
   "id": "1b552e4c",
   "metadata": {},
   "outputs": [],
   "source": [
    "7. The findall() method returns a string lists or a lists of string tuples.\n",
    "what cause it to return one of the two options?"
   ]
  },
  {
   "cell_type": "code",
   "execution_count": null,
   "id": "65eacd08",
   "metadata": {},
   "outputs": [],
   "source": [
    "If the regex has no groups, a list of strings is returned. If the regex has groups, a list of turples of strings is a retuned."
   ]
  },
  {
   "cell_type": "code",
   "execution_count": null,
   "id": "09f01dc4",
   "metadata": {},
   "outputs": [],
   "source": [
    "8. In standard expressions what does the | character mean?"
   ]
  },
  {
   "cell_type": "code",
   "execution_count": null,
   "id": "01eb25a2",
   "metadata": {},
   "outputs": [],
   "source": [
    "The | characaters signifies matching either , or between two groups."
   ]
  },
  {
   "cell_type": "code",
   "execution_count": null,
   "id": "c28e85d5",
   "metadata": {},
   "outputs": [],
   "source": [
    "9.  In regular expression, What does the characters stand for?"
   ]
  },
  {
   "cell_type": "code",
   "execution_count": null,
   "id": "c6ff2a6f",
   "metadata": {},
   "outputs": [],
   "source": [
    " The ? characters can either mean \" match zero or one of the preceding group \"  or be used to siginify non greedy matching."
   ]
  },
  {
   "cell_type": "code",
   "execution_count": null,
   "id": "305c7203",
   "metadata": {},
   "outputs": [],
   "source": [
    "10. In regular expressions, What is the difference between the + and * characters?"
   ]
  },
  {
   "cell_type": "code",
   "execution_count": null,
   "id": "4868ea0a",
   "metadata": {},
   "outputs": [],
   "source": [
    "The + matches one or more. The  *  matches zero or more."
   ]
  },
  {
   "cell_type": "code",
   "execution_count": null,
   "id": "fd6eb3fe",
   "metadata": {},
   "outputs": [],
   "source": [
    "11. What is the difference between{4} and {4,5} in regular expression?"
   ]
  },
  {
   "cell_type": "code",
   "execution_count": null,
   "id": "f357ec43",
   "metadata": {},
   "outputs": [],
   "source": [
    "The {4} matches exactly four instances of the preceding group.\n",
    "The {4,5} matches between four and five instances."
   ]
  },
  {
   "cell_type": "code",
   "execution_count": null,
   "id": "4b27e2f3",
   "metadata": {},
   "outputs": [],
   "source": [
    "12. What do you mean by the /f /w and /s shortlanfds characters classed=s siginify in regular expression?"
   ]
  },
  {
   "cell_type": "code",
   "execution_count": null,
   "id": "8a79a26b",
   "metadata": {},
   "outputs": [],
   "source": [
    "The \\d,\\w, and \\ s shortland character classes match a single digit, word or spcae characters, respectively."
   ]
  },
  {
   "cell_type": "code",
   "execution_count": null,
   "id": "171fd896",
   "metadata": {},
   "outputs": [],
   "source": [
    "13. What do means by \\d,\\w,\\s shorthand character classes signify character signify? that is not a digit, word or spcae character "
   ]
  },
  {
   "cell_type": "code",
   "execution_count": null,
   "id": "e1ce644f",
   "metadata": {},
   "outputs": [],
   "source": [
    "The  \\d,\\w,\\s shorthand character classes match a single characters that is not a digit, word or spcae character "
   ]
  },
  {
   "cell_type": "code",
   "execution_count": null,
   "id": "aa18d8d6",
   "metadata": {},
   "outputs": [],
   "source": [
    "14. What is the difference between.? and.? "
   ]
  },
  {
   "cell_type": "code",
   "execution_count": null,
   "id": "8c0ec648",
   "metadata": {},
   "outputs": [],
   "source": [
    "The . performs a greedy match and the.? performs a non greddy match."
   ]
  },
  {
   "cell_type": "code",
   "execution_count": null,
   "id": "a21f39f1",
   "metadata": {},
   "outputs": [],
   "source": [
    "15.  What is the syntax for matching both numbers and lowercase letters with a character class?"
   ]
  },
  {
   "cell_type": "code",
   "execution_count": null,
   "id": "73ff7963",
   "metadata": {},
   "outputs": [],
   "source": [
    "Either[0-9a-z] or [a-z0-9]"
   ]
  },
  {
   "cell_type": "code",
   "execution_count": null,
   "id": "0d4c29a4",
   "metadata": {},
   "outputs": [],
   "source": [
    "16. What is the procedure for making  a normal expression in regax case insensitive?"
   ]
  },
  {
   "cell_type": "code",
   "execution_count": null,
   "id": "b15eb705",
   "metadata": {},
   "outputs": [],
   "source": [
    "Passing re.| or re.IGNORECASE  as the second arguments to re.compline() will make the mataching case insensitive."
   ]
  },
  {
   "cell_type": "code",
   "execution_count": null,
   "id": "7dbdce9b",
   "metadata": {},
   "outputs": [],
   "source": [
    "17. What does the .character normally match?  What does it matches if re. DOTALL IS  passed as 2nd argument in re.compline?"
   ]
  },
  {
   "cell_type": "code",
   "execution_count": null,
   "id": "28106822",
   "metadata": {},
   "outputs": [],
   "source": [
    "The. Character normally matches any character except the newline characters. If re. DOTALL  is passed as the\n",
    "seconf aruguments to re.compline(), then the dot will also match newline characters."
   ]
  },
  {
   "cell_type": "code",
   "execution_count": null,
   "id": "19bd017c",
   "metadata": {},
   "outputs": [],
   "source": [
    "18. If numReg= re.compline(r'\\d+') What will numRegex.sub('x',11 drummers, 10 pipers, five rings, 4 hen') retunr?"
   ]
  },
  {
   "cell_type": "code",
   "execution_count": null,
   "id": "23ff0b86",
   "metadata": {},
   "outputs": [],
   "source": [
    "\"X drummers, Xpipleine,five rings, x hens\""
   ]
  },
  {
   "cell_type": "code",
   "execution_count": null,
   "id": "e07c2065",
   "metadata": {},
   "outputs": [],
   "source": [
    "19.  What does passing re.VERBOSE  as the 2nd arguments to re.compline() allow to do?"
   ]
  },
  {
   "cell_type": "code",
   "execution_count": null,
   "id": "1f564c38",
   "metadata": {},
   "outputs": [],
   "source": [
    "The re.VERBOSE aruguments allow to you to add whitespcaes and comments to the string passed to re.compline()"
   ]
  },
  {
   "cell_type": "code",
   "execution_count": null,
   "id": "41cabd56",
   "metadata": {},
   "outputs": [],
   "source": [
    "20.  How would you wirte a regex that match a number with comma for every three digits?\n",
    "It must match the given following:"
   ]
  },
  {
   "cell_type": "code",
   "execution_count": null,
   "id": "bc2f3c0a",
   "metadata": {},
   "outputs": [],
   "source": [
    "'42','1,234',6,368,'745' but not the following :'12,34,567'(which has only a two digit only between the commas)'1234'(which lack the commas)answer :-re.compiler (r'^\\d{1,3}\n",
    "(,\\d{3})*$) will create this regex but othre regex string can produce a similar regular expressions "
   ]
  },
  {
   "cell_type": "code",
   "execution_count": null,
   "id": "7861c510",
   "metadata": {},
   "outputs": [],
   "source": [
    "21. how would you write a reject that matches full name of someone whoes last name is watanave?you can assime that the first name that comes before  it will always be a one word that behind with a capital letter the rejects must match the follwing: "
   ]
  },
  {
   "cell_type": "code",
   "execution_count": null,
   "id": "dbc93753",
   "metadata": {},
   "outputs": [],
   "source": [
    "haruto watanable alice rebocop watanable but not the following :'haruto watanable'(where the firtst name is not capitialized)\n",
    "    'Mr.watanable (where has no first name)'haruto watanable 'where watanable (where watanable is not capitalized)answer:=re.compiler(r'\\s([A-Z]\\w+)\\s(watanable))\n",
    "    "
   ]
  },
  {
   "cell_type": "code",
   "execution_count": null,
   "id": "f8f4589c",
   "metadata": {},
   "outputs": [],
   "source": [
    "22.how would you wtite a regex that matches a sentence where the first word is either Alice ,bobor carol,the second word is either\n",
    "eats,pets or throws;teh throws the third word is apple cats or baseballs;and the sentence ends with a period?this regex should be case-insensitive .it must match the following:"
   ]
  },
  {
   "cell_type": "code",
   "execution_count": null,
   "id": "90fd1bef",
   "metadata": {},
   "outputs": [],
   "source": [
    "'Alice eats the apple'Bob pets cats'.'carol throws baseballs''Alice throws apples.''bob eats the cats but not the follwoing;\n",
    "'robocop eats the apples'.'Alice throws the foodballs carol eats seven cats'\n",
    "answer=\n",
    "re.compiler(r(Alice|bob|carol)\\s(eats |pets|||throws)\\s(apple|cats|baseballs).\n",
    "            re.IGNORECASE)"
   ]
  }
 ],
 "metadata": {
  "kernelspec": {
   "display_name": "Python 3 (ipykernel)",
   "language": "python",
   "name": "python3"
  },
  "language_info": {
   "codemirror_mode": {
    "name": "ipython",
    "version": 3
   },
   "file_extension": ".py",
   "mimetype": "text/x-python",
   "name": "python",
   "nbconvert_exporter": "python",
   "pygments_lexer": "ipython3",
   "version": "3.9.12"
  }
 },
 "nbformat": 4,
 "nbformat_minor": 5
}
