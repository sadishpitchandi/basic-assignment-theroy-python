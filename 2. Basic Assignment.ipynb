{
 "cells": [
  {
   "cell_type": "markdown",
   "id": "0ecfb197",
   "metadata": {},
   "source": [
    "1. What are the two values of the Boolean Data Types ? How do you write them ?"
   ]
  },
  {
   "cell_type": "code",
   "execution_count": null,
   "id": "69e10c29",
   "metadata": {},
   "outputs": [],
   "source": [
    "The two values of the  Boolean Data Types  are TRUE AND FALSE"
   ]
  },
  {
   "cell_type": "markdown",
   "id": "a6a91a5e",
   "metadata": {},
   "source": [
    "2. What are the three  different types of Bollean operators ?"
   ]
  },
  {
   "cell_type": "code",
   "execution_count": null,
   "id": "1cc158c6",
   "metadata": {},
   "outputs": [],
   "source": [
    "Three different types of Boolean operators \n",
    "1. Comparison operator ( ==,>,<,!=,<=,>=)\n",
    "2. Binary Boolean Operator (and,or)\n",
    "3. Not Operator"
   ]
  },
  {
   "cell_type": "markdown",
   "id": "eb600733",
   "metadata": {},
   "source": [
    "3. Make a list of each Boolean operator truth tables(i.e., every possible combination of Boolean values for the operator and what it evaluate)"
   ]
  },
  {
   "cell_type": "code",
   "execution_count": 2,
   "id": "ee5ec3cf",
   "metadata": {},
   "outputs": [
    {
     "data": {
      "text/plain": [
       "'* Not False -> `True`'"
      ]
     },
     "execution_count": 2,
     "metadata": {},
     "output_type": "execute_result"
    }
   ],
   "source": [
    "     True or False -> True\n",
    "     True or True -> True\n",
    "     False or False -> False\n",
    "     False or True -> True\n",
    "    \n",
    "    True and False -> False\n",
    "    True and True -> True\n",
    "    False and False -> False\n",
    "    False and True -> False\n",
    "    \n",
    "     Not True -> False\n",
    "     Not False ->True\n",
    "   "
   ]
  },
  {
   "cell_type": "markdown",
   "id": "e1e145c2",
   "metadata": {},
   "source": [
    "4.What are the values of the following expressions ?"
   ]
  },
  {
   "cell_type": "code",
   "execution_count": null,
   "id": "5e9b21f9",
   "metadata": {},
   "outputs": [],
   "source": [
    "      (5 > 4) and (3 == 5) => True and False => False\n",
    "      not (5 > 4) => Not True => False\n",
    "     (5 > 4) or (3 == 5) => True or False => True\n",
    "      not ((5 > 4) or (3 == 5)) => not (True or False) => False\n",
    "     (True and True) and (True == False) => False\n",
    "     (not False) or (not True) => True"
   ]
  },
  {
   "cell_type": "markdown",
   "id": "f5e91053",
   "metadata": {},
   "source": [
    "5.What are the six comparison operators ?"
   ]
  },
  {
   "cell_type": "code",
   "execution_count": null,
   "id": "b85b62e1",
   "metadata": {},
   "outputs": [],
   "source": [
    "`==` Equal to\n",
    "`<` Less than\n",
    "`>` Greater than\n",
    "`!=` Not Equal to\n",
    "`<=` Less than or equal to\n",
    "`>=` Greater than or equal to"
   ]
  },
  {
   "cell_type": "markdown",
   "id": "d79988a5",
   "metadata": {},
   "source": [
    "6.  How do you tell the difference between the equal to and assignment operators ? Describe a condition and when you would use one."
   ]
  },
  {
   "cell_type": "code",
   "execution_count": null,
   "id": "91aa14fd",
   "metadata": {},
   "outputs": [],
   "source": [
    "1. Equal to operators looks like \"==\" (double equal to) while the assignment operator contains singl \"=\" equal to operator \n",
    "2. Equal to operator is used when we are comapring two values while the assignment operator is used when we want to assign a value / variable value to another variable"
   ]
  },
  {
   "cell_type": "markdown",
   "id": "1ce9ca00",
   "metadata": {},
   "source": [
    "7. Identify the three blocks in this code"
   ]
  },
  {
   "cell_type": "code",
   "execution_count": null,
   "id": "0c258912",
   "metadata": {},
   "outputs": [],
   "source": [
    "spam =0\n",
    "if spam==10:\n",
    "    print (\"eggs\")\n",
    "if spam>5:\n",
    "    print(\"bacon\")\n",
    "else:\n",
    "    print('ham')\n",
    "if elif ladder:\n",
    "    print('spam')"
   ]
  },
  {
   "cell_type": "markdown",
   "id": "4f81ee2b",
   "metadata": {},
   "source": [
    "8. Write code that print Hello if 1 is stored in spam ,prints howdy if 2 is spam and print greeting ifanythings else is stored in spam "
   ]
  },
  {
   "cell_type": "code",
   "execution_count": null,
   "id": "5541d22b",
   "metadata": {},
   "outputs": [],
   "source": [
    "if spam==1:\n",
    "    print(\"hello\")\n",
    "elif spam==2:\n",
    "    print(\"howdy\")\n",
    "else:\n",
    "    print(\"Greeting\")"
   ]
  },
  {
   "cell_type": "markdown",
   "id": "1134b6a6",
   "metadata": {},
   "source": [
    "9.your programme is stuck in an endless loop,what keys you will press?"
   ]
  },
  {
   "cell_type": "code",
   "execution_count": null,
   "id": "6fc531ad",
   "metadata": {},
   "outputs": [],
   "source": [
    "ctrl+c"
   ]
  },
  {
   "cell_type": "markdown",
   "id": "6a82cebf",
   "metadata": {},
   "source": [
    "10.how can you call the different between the break and continuous?"
   ]
  },
  {
   "cell_type": "code",
   "execution_count": null,
   "id": "f3a6c8f4",
   "metadata": {},
   "outputs": [],
   "source": [
    "break is use to terminate the enclosing the loop,whereas continue helps skips the remaing part of the loop "
   ]
  },
  {
   "cell_type": "markdown",
   "id": "deb55a0b",
   "metadata": {},
   "source": [
    "11.In for loop, Whatis the different range(10),range(0,10)and range(0,10,1)? "
   ]
  },
  {
   "cell_type": "code",
   "execution_count": null,
   "id": "5b1d17ca",
   "metadata": {},
   "outputs": [],
   "source": [
    "All three as same as for range function the default value of the thir argument is 1,so even though if it not passed it takes is as 1by default\n",
    "Range by default starts at 0 if not passed ,if the signle number is passded it will assumed that value to be the end of the range and will enumerate from 0 till the given number\n",
    "So for a for loop above three ranges function will be result into same output "
   ]
  },
  {
   "cell_type": "markdown",
   "id": "41c00885",
   "metadata": {},
   "source": [
    "12. Write a Short Program that prints the numbers 1 to 10 using for loop. Then write an equivalent program that print that prints the number 1 to 10 using while loop. "
   ]
  },
  {
   "cell_type": "code",
   "execution_count": 5,
   "id": "8fac46f4",
   "metadata": {},
   "outputs": [
    {
     "name": "stdout",
     "output_type": "stream",
     "text": [
      "1 2 3 4 5 6 7 8 9 10 "
     ]
    }
   ],
   "source": [
    "for i in range(1,11):\n",
    "    print(i, end =\" \")\n"
   ]
  },
  {
   "cell_type": "code",
   "execution_count": 1,
   "id": "15b9d503",
   "metadata": {},
   "outputs": [
    {
     "name": "stdout",
     "output_type": "stream",
     "text": [
      "1 2 3 4 5 6 7 8 9 10 "
     ]
    }
   ],
   "source": [
    "i=1\n",
    "while i<=10:\n",
    "    print(i, end =\" \")\n",
    "    i+=1"
   ]
  },
  {
   "cell_type": "markdown",
   "id": "df9d08b7",
   "metadata": {},
   "source": [
    "13. If you had a function  named bacon() inside a module named spam , how would you call it after improting spam ?"
   ]
  },
  {
   "cell_type": "code",
   "execution_count": null,
   "id": "7bccfca3",
   "metadata": {},
   "outputs": [],
   "source": [
    "Spam.bacon()"
   ]
  },
  {
   "cell_type": "code",
   "execution_count": null,
   "id": "acc1da80",
   "metadata": {},
   "outputs": [],
   "source": []
  },
  {
   "cell_type": "code",
   "execution_count": null,
   "id": "324cd4a6",
   "metadata": {},
   "outputs": [],
   "source": []
  },
  {
   "cell_type": "code",
   "execution_count": null,
   "id": "d5bb5c03",
   "metadata": {},
   "outputs": [],
   "source": []
  },
  {
   "cell_type": "code",
   "execution_count": null,
   "id": "ae7ce1f5",
   "metadata": {},
   "outputs": [],
   "source": []
  },
  {
   "cell_type": "code",
   "execution_count": null,
   "id": "fcf19350",
   "metadata": {},
   "outputs": [],
   "source": []
  },
  {
   "cell_type": "code",
   "execution_count": null,
   "id": "1de6b12d",
   "metadata": {},
   "outputs": [],
   "source": []
  },
  {
   "cell_type": "code",
   "execution_count": null,
   "id": "f83362c3",
   "metadata": {},
   "outputs": [],
   "source": []
  },
  {
   "cell_type": "code",
   "execution_count": null,
   "id": "c8e87285",
   "metadata": {},
   "outputs": [],
   "source": []
  },
  {
   "cell_type": "code",
   "execution_count": null,
   "id": "a17e5796",
   "metadata": {},
   "outputs": [],
   "source": []
  },
  {
   "cell_type": "code",
   "execution_count": null,
   "id": "2d52e935",
   "metadata": {},
   "outputs": [],
   "source": []
  },
  {
   "cell_type": "code",
   "execution_count": null,
   "id": "77e53549",
   "metadata": {},
   "outputs": [],
   "source": [
    "\n",
    "   \"source\": [\n",
    "    \"### 5. What are the six comparison operators?\\n\",\n",
    "    \"Operator  Meaning\\n\",\n",
    "    \"* `==` Equal to\\n\",\n",
    "    \"* `<` Less than\\n\",\n",
    "    \"* `>` Greater than\\n\",\n",
    "    \"* `!=` Not Equal to\\n\",\n",
    "    \"* `<=` Less than or equal to\\n\",\n",
    "    \"* `>=` Greater than or equal to\"\n",
    "   ]\n",
    "  },\n",
    "  {\n",
    "   \"cell_type\": \"markdown\",\n",
    "   \"id\": \"486bc0ed\",\n",
    "   \"metadata\": {},\n",
    "   \"source\": [\n",
    "    \"### 6. How do you tell the difference between the equal to and assignment operators? Describe a condition and when you would use one.\\n\",\n",
    "    \"* Equal to operator looks like “==” (double equal to), while the assignment operator contains single “=” equal to operator.\\n\",\n",
    "    \"* Equal to operator is used when we are comparing two values, while the assignment operator is used when we want to assign a value/variable’s value to another variable \"\n",
    "   ]\n",
    "  },\n",
    "  {\n",
    "   \"cell_type\": \"markdown\",\n",
    "   \"id\": \"6cbf91d6\",\n",
    "   \"metadata\": {},\n",
    "   \"source\": [\n",
    "    \"### 7. Identify the three blocks in this code:\\n\",\n",
    "    \"```\\n\",\n",
    "    \"spam = 0\\n\",\n",
    "    \"if spam == 10:\\n\",\n",
    "    \"    print('eggs')\\n\",\n",
    "    \"if spam > 5:\\n\",\n",
    "    \"    print('bacon')\\n\",\n",
    "    \"else:\\n\",\n",
    "    \"    print('ham')\\n\",\n",
    "    \"# below two lines can be inside else block, or outside if else ladder\\n\",\n",
    "    \"print(‘spam’) \\n\",\n",
    "    \"print(‘spam’)\\n\",\n",
    "    \"```\"\n",
    "   ]\n",
    "  },\n",
    "  {\n",
    "   \"cell_type\": \"markdown\",\n",
    "   \"id\": \"bd11a41c\",\n",
    "   \"metadata\": {},\n",
    "   \"source\": [\n",
    "    \"### 8. Write code that prints Hello if 1 is stored in spam, prints Howdy if 2 is stored in spam, and prints Greetings! If anything else is stored in spam.\\n\",\n",
    "    \"```\\n\",\n",
    "    \"if spam == 1:\\n\",\n",
    "    \"    print(\\\"Hello\\\")\\n\",\n",
    "    \"elif spam == 2:\\n\",\n",
    "    \"    print(\\\"Howdy\\\")\\n\",\n",
    "    \"else:\\n\",\n",
    "    \"    print(\\\"Greetings!\\\")\\n\",\n",
    "    \"```\"\n",
    "   ]\n",
    "  },\n",
    "  {\n",
    "   \"cell_type\": \"markdown\",\n",
    "   \"id\": \"10655833\",\n",
    "   \"metadata\": {},\n",
    "   \"source\": [\n",
    "    \"### 9.If your programme is stuck in an endless loop, what keys you’ll press?\\n\",\n",
    "    \"`Ctrl + C`\"\n",
    "   ]\n",
    "  },\n",
    "  {\n",
    "   \"cell_type\": \"markdown\",\n",
    "   \"id\": \"9b6fcaee\",\n",
    "   \"metadata\": {},\n",
    "   \"source\": [\n",
    "    \"### 10. How can you tell the difference between break and continue?\\n\",\n",
    "    \"Break is used to terminate the enclosing loop, whereas continue helps skip the remining part of the loop\"\n",
    "   ]\n",
    "  },\n",
    "  {\n",
    "   \"cell_type\": \"markdown\",\n",
    "   \"id\": \"ec2e5d88\",\n",
    "   \"metadata\": {},\n",
    "   \"source\": [\n",
    "    \"### 11. In a for loop, what is the difference between range(10), range(0, 10), and range(0, 10, 1)?\\n\",\n",
    "    \"* All three as same as for range function the default value of the third argument is 1, so even though if it is not passed, it takes it as 1 by default. \\n\",\n",
    "    \"* Range by default starts at 0 if not passed, if single number is passed, it will assume that value to be end of the range and will enumerate from 0 till the given number.\\n\",\n",
    "    \"* So for a for loop all above three range functions will result into same output.\"\n",
    "   ]\n",
    "  },\n",
    "  {\n",
    "   \"cell_type\": \"markdown\",\n",
    "   \"id\": \"d7b9beb9\",\n",
    "   \"metadata\": {},\n",
    "   \"source\": [\n",
    "    \"### 12. Write a short program that prints the numbers 1 to 10 using a for loop. Then write an equivalent program that prints the numbers 1 to 10 using a while loop.\\n\",\n",
    "    \"```\\n\",\n",
    "    \"for i in range(1, 11):\\n\",\n",
    "    \"    print(i, end = \\\" \\\")\\n\",\n",
    "    \"```\\n\",\n",
    "    \"```\\n\",\n",
    "    \"i = 1\\n\",\n",
    "    \"while i <= 10:\\n\",\n",
    "    \"    print(i, end = \\\" \\\")\\n\",\n",
    "    \"    i += 1\\n\",\n",
    "    \"```\"\n",
    "   ]\n",
    "  },\n",
    "  {\n",
    "   \"cell_type\": \"markdown\",\n",
    "   \"id\": \"a2ca7d25\",\n",
    "   \"metadata\": {},\n",
    "   \"source\": [\n",
    "    \"### 13. If you had a function named bacon() inside a module named spam, how would you call it after importing spam?\\n\",\n",
    "    \"`Spam.bacon()`\"\n",
    "   ]\n",
    "  }\n",
    " ],\n",
    " \"metadata\": {\n",
    "  \"kernelspec\": {\n",
    "   \"display_name\": \"Python 3 (ipykernel)\",\n",
    "   \"language\": \"python\",\n",
    "   \"name\": \"python3\"\n",
    "  },\n",
    "  \"language_info\": {\n",
    "   \"codemirror_mode\": {\n",
    "    \"name\": \"ipython\",\n",
    "    \"version\": 3\n",
    "   },\n",
    "   \"file_extension\": \".py\",\n",
    "   \"mimetype\": \"text/x-python\",\n",
    "   \"name\": \"python\",\n",
    "   \"nbconvert_exporter\": \"python\",\n",
    "   \"pygments_lexer\": \"ipython3\",\n",
    "   \"version\": \"3.9.7\"\n",
    "  }\n",
    " },\n",
    " \"nbformat\": 4,\n",
    " \"nbformat_minor\": 5\n",
    "}"
   ]
  }
 ],
 "metadata": {
  "kernelspec": {
   "display_name": "Python 3 (ipykernel)",
   "language": "python",
   "name": "python3"
  },
  "language_info": {
   "codemirror_mode": {
    "name": "ipython",
    "version": 3
   },
   "file_extension": ".py",
   "mimetype": "text/x-python",
   "name": "python",
   "nbconvert_exporter": "python",
   "pygments_lexer": "ipython3",
   "version": "3.9.12"
  }
 },
 "nbformat": 4,
 "nbformat_minor": 5
}
